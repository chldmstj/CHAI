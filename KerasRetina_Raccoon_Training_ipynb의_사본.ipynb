{
  "nbformat": 4,
  "nbformat_minor": 0,
  "metadata": {
    "kernelspec": {
      "name": "python3",
      "display_name": "Python 3"
    },
    "colab": {
      "name": "KerasRetina_Raccoon_Training.ipynb의 사본",
      "provenance": [],
      "include_colab_link": true
    },
    "accelerator": "GPU"
  },
  "cells": [
    {
      "cell_type": "markdown",
      "metadata": {
        "id": "view-in-github",
        "colab_type": "text"
      },
      "source": [
        "<a href=\"https://colab.research.google.com/github/chldmstj/CHAI/blob/master/KerasRetina_Raccoon_Training_ipynb%EC%9D%98_%EC%82%AC%EB%B3%B8.ipynb\" target=\"_parent\"><img src=\"https://colab.research.google.com/assets/colab-badge.svg\" alt=\"Open In Colab\"/></a>"
      ]
    },
    {
      "cell_type": "code",
      "metadata": {
        "id": "krHQ3R3IuZOY",
        "colab": {
          "base_uri": "https://localhost:8080/",
          "height": 35
        },
        "outputId": "cea942ed-500d-45f6-aa94-180ee0299cec"
      },
      "source": [
        "%tensorflow_version 1.x"
      ],
      "execution_count": null,
      "outputs": [
        {
          "output_type": "stream",
          "text": [
            "TensorFlow 1.x selected.\n"
          ],
          "name": "stdout"
        }
      ]
    },
    {
      "cell_type": "code",
      "metadata": {
        "id": "jxLP_PvsC20a",
        "colab": {
          "base_uri": "https://localhost:8080/",
          "height": 35
        },
        "outputId": "d863396a-dd3f-4957-8329-8362ce1f8d22"
      },
      "source": [
        "import tensorflow as tf\n",
        "print(tf.__version__)"
      ],
      "execution_count": null,
      "outputs": [
        {
          "output_type": "stream",
          "text": [
            "1.15.2\n"
          ],
          "name": "stdout"
        }
      ]
    },
    {
      "cell_type": "code",
      "metadata": {
        "id": "fjpbvnZPza6s",
        "colab": {
          "base_uri": "https://localhost:8080/",
          "height": 106
        },
        "outputId": "a1488289-ea77-40f2-96be-734fb5cc5c33"
      },
      "source": [
        "!git clone https://github.com/chulminkw/keras-retinanet-tf115.git keras-retinanet"
      ],
      "execution_count": null,
      "outputs": [
        {
          "output_type": "stream",
          "text": [
            "Cloning into 'keras-retinanet'...\n",
            "remote: Enumerating objects: 149, done.\u001b[K\n",
            "remote: Total 149 (delta 0), reused 0 (delta 0), pack-reused 149\u001b[K\n",
            "Receiving objects: 100% (149/149), 2.12 MiB | 2.06 MiB/s, done.\n",
            "Resolving deltas: 100% (70/70), done.\n"
          ],
          "name": "stdout"
        }
      ]
    },
    {
      "cell_type": "code",
      "metadata": {
        "id": "Wj49Ha_5Dvwu",
        "colab": {
          "base_uri": "https://localhost:8080/",
          "height": 35
        },
        "outputId": "40b2d7bf-9d57-4ee4-c265-37227b5552ba"
      },
      "source": [
        "%cd /content/keras-retinanet/"
      ],
      "execution_count": null,
      "outputs": [
        {
          "output_type": "stream",
          "text": [
            "/content/keras-retinanet\n"
          ],
          "name": "stdout"
        }
      ]
    },
    {
      "cell_type": "code",
      "metadata": {
        "id": "FecGuvmxERzo",
        "colab": {
          "base_uri": "https://localhost:8080/",
          "height": 35
        },
        "outputId": "90db30c4-a8a3-42a5-886d-cae8ab72cca4"
      },
      "source": [
        "!pwd"
      ],
      "execution_count": null,
      "outputs": [
        {
          "output_type": "stream",
          "text": [
            "/content/keras-retinanet\n"
          ],
          "name": "stdout"
        }
      ]
    },
    {
      "cell_type": "code",
      "metadata": {
        "id": "G5n8dWfWzeaS",
        "colab": {
          "base_uri": "https://localhost:8080/",
          "height": 940
        },
        "outputId": "d621eaf1-fd72-484f-83a0-acc59dd4b10a"
      },
      "source": [
        "%cd /content/keras-retinanet/\n",
        "!pip install . --user\n",
        "!python setup.py build_ext --inplace"
      ],
      "execution_count": null,
      "outputs": [
        {
          "output_type": "stream",
          "text": [
            "/content/keras-retinanet\n",
            "Processing /content/keras-retinanet\n",
            "Requirement already satisfied: keras in /tensorflow-1.15.2/python3.6 (from keras-retinanet==0.5.1) (2.3.1)\n",
            "Collecting keras-resnet\n",
            "  Downloading https://files.pythonhosted.org/packages/76/d4/a35cbd07381139dda4db42c81b88c59254faac026109022727b45b31bcad/keras-resnet-0.2.0.tar.gz\n",
            "Requirement already satisfied: six in /usr/local/lib/python3.6/dist-packages (from keras-retinanet==0.5.1) (1.15.0)\n",
            "Requirement already satisfied: scipy in /usr/local/lib/python3.6/dist-packages (from keras-retinanet==0.5.1) (1.4.1)\n",
            "Requirement already satisfied: cython in /usr/local/lib/python3.6/dist-packages (from keras-retinanet==0.5.1) (0.29.21)\n",
            "Requirement already satisfied: Pillow in /usr/local/lib/python3.6/dist-packages (from keras-retinanet==0.5.1) (7.0.0)\n",
            "Requirement already satisfied: opencv-python in /usr/local/lib/python3.6/dist-packages (from keras-retinanet==0.5.1) (4.1.2.30)\n",
            "Requirement already satisfied: progressbar2 in /usr/local/lib/python3.6/dist-packages (from keras-retinanet==0.5.1) (3.38.0)\n",
            "Requirement already satisfied: pyyaml in /usr/local/lib/python3.6/dist-packages (from keras->keras-retinanet==0.5.1) (3.13)\n",
            "Requirement already satisfied: h5py in /usr/local/lib/python3.6/dist-packages (from keras->keras-retinanet==0.5.1) (2.10.0)\n",
            "Requirement already satisfied: keras-preprocessing>=1.0.5 in /usr/local/lib/python3.6/dist-packages (from keras->keras-retinanet==0.5.1) (1.1.2)\n",
            "Requirement already satisfied: numpy>=1.9.1 in /usr/local/lib/python3.6/dist-packages (from keras->keras-retinanet==0.5.1) (1.18.5)\n",
            "Requirement already satisfied: keras-applications>=1.0.6 in /tensorflow-1.15.2/python3.6 (from keras->keras-retinanet==0.5.1) (1.0.8)\n",
            "Requirement already satisfied: python-utils>=2.3.0 in /usr/local/lib/python3.6/dist-packages (from progressbar2->keras-retinanet==0.5.1) (2.4.0)\n",
            "Building wheels for collected packages: keras-retinanet, keras-resnet\n",
            "  Building wheel for keras-retinanet (setup.py) ... \u001b[?25l\u001b[?25hdone\n",
            "  Created wheel for keras-retinanet: filename=keras_retinanet-0.5.1-cp36-cp36m-linux_x86_64.whl size=145831 sha256=1a0118cfe484304fcbf677803470737ac4e5b0a7d1c9b4e9122ac84d4c123cff\n",
            "  Stored in directory: /root/.cache/pip/wheels/b2/9f/57/cb0305f6f5a41fc3c11ad67b8cedfbe9127775b563337827ba\n",
            "  Building wheel for keras-resnet (setup.py) ... \u001b[?25l\u001b[?25hdone\n",
            "  Created wheel for keras-resnet: filename=keras_resnet-0.2.0-py2.py3-none-any.whl size=20487 sha256=1bb804c61a6ab2392528f860926d8d967d10fea775864c91da48d8f3133142cd\n",
            "  Stored in directory: /root/.cache/pip/wheels/5f/09/a5/497a30fd9ad9964e98a1254d1e164bcd1b8a5eda36197ecb3c\n",
            "Successfully built keras-retinanet keras-resnet\n",
            "Installing collected packages: keras-resnet, keras-retinanet\n",
            "\u001b[33m  WARNING: The scripts retinanet-convert-model, retinanet-debug, retinanet-evaluate and retinanet-train are installed in '/root/.local/bin' which is not on PATH.\n",
            "  Consider adding this directory to PATH or, if you prefer to suppress this warning, use --no-warn-script-location.\u001b[0m\n",
            "Successfully installed keras-resnet-0.2.0 keras-retinanet-0.5.1\n",
            "running build_ext\n",
            "cythoning keras_retinanet/utils/compute_overlap.pyx to keras_retinanet/utils/compute_overlap.c\n",
            "/usr/local/lib/python3.6/dist-packages/Cython/Compiler/Main.py:369: FutureWarning: Cython directive 'language_level' not set, using 2 for now (Py2). This will change in a later release! File: /content/keras-retinanet/keras_retinanet/utils/compute_overlap.pyx\n",
            "  tree = Parsing.p_module(s, pxd, full_module_name)\n",
            "building 'keras_retinanet.utils.compute_overlap' extension\n",
            "creating build\n",
            "creating build/temp.linux-x86_64-3.6\n",
            "creating build/temp.linux-x86_64-3.6/keras_retinanet\n",
            "creating build/temp.linux-x86_64-3.6/keras_retinanet/utils\n",
            "x86_64-linux-gnu-gcc -pthread -DNDEBUG -g -fwrapv -O2 -Wall -g -fstack-protector-strong -Wformat -Werror=format-security -Wdate-time -D_FORTIFY_SOURCE=2 -fPIC -I/usr/include/python3.6m -I/usr/local/lib/python3.6/dist-packages/numpy/core/include -c keras_retinanet/utils/compute_overlap.c -o build/temp.linux-x86_64-3.6/keras_retinanet/utils/compute_overlap.o\n",
            "In file included from \u001b[01m\u001b[K/usr/local/lib/python3.6/dist-packages/numpy/core/include/numpy/ndarraytypes.h:1832:0\u001b[m\u001b[K,\n",
            "                 from \u001b[01m\u001b[K/usr/local/lib/python3.6/dist-packages/numpy/core/include/numpy/ndarrayobject.h:12\u001b[m\u001b[K,\n",
            "                 from \u001b[01m\u001b[K/usr/local/lib/python3.6/dist-packages/numpy/core/include/numpy/arrayobject.h:4\u001b[m\u001b[K,\n",
            "                 from \u001b[01m\u001b[Kkeras_retinanet/utils/compute_overlap.c:610\u001b[m\u001b[K:\n",
            "\u001b[01m\u001b[K/usr/local/lib/python3.6/dist-packages/numpy/core/include/numpy/npy_1_7_deprecated_api.h:17:2:\u001b[m\u001b[K \u001b[01;35m\u001b[Kwarning: \u001b[m\u001b[K#warning \"Using deprecated NumPy API, disable it with \" \"#define NPY_NO_DEPRECATED_API NPY_1_7_API_VERSION\" [\u001b[01;35m\u001b[K-Wcpp\u001b[m\u001b[K]\n",
            " #\u001b[01;35m\u001b[Kwarning\u001b[m\u001b[K \"Using deprecated NumPy API, disable it with \" \\\n",
            "  \u001b[01;35m\u001b[K^~~~~~~\u001b[m\u001b[K\n",
            "creating build/lib.linux-x86_64-3.6\n",
            "creating build/lib.linux-x86_64-3.6/keras_retinanet\n",
            "creating build/lib.linux-x86_64-3.6/keras_retinanet/utils\n",
            "x86_64-linux-gnu-gcc -pthread -shared -Wl,-O1 -Wl,-Bsymbolic-functions -Wl,-Bsymbolic-functions -Wl,-z,relro -Wl,-Bsymbolic-functions -Wl,-z,relro -g -fstack-protector-strong -Wformat -Werror=format-security -Wdate-time -D_FORTIFY_SOURCE=2 build/temp.linux-x86_64-3.6/keras_retinanet/utils/compute_overlap.o -o build/lib.linux-x86_64-3.6/keras_retinanet/utils/compute_overlap.cpython-36m-x86_64-linux-gnu.so\n",
            "copying build/lib.linux-x86_64-3.6/keras_retinanet/utils/compute_overlap.cpython-36m-x86_64-linux-gnu.so -> keras_retinanet/utils\n"
          ],
          "name": "stdout"
        }
      ]
    },
    {
      "cell_type": "markdown",
      "metadata": {
        "id": "S0u63Ya86K7J"
      },
      "source": [
        "### Raccoon 데이터 세트를 학습하고 학습된 모델을 이용하여 이미지와 비디오에 Object Detection과 성능 평가. "
      ]
    },
    {
      "cell_type": "code",
      "metadata": {
        "id": "1jKetu4CJDbk"
      },
      "source": [
        "!rm -rf /content/raccoon_dataset"
      ],
      "execution_count": null,
      "outputs": []
    },
    {
      "cell_type": "code",
      "metadata": {
        "id": "-szRRM5kaoGQ",
        "colab": {
          "base_uri": "https://localhost:8080/",
          "height": 106
        },
        "outputId": "75e5128e-0ef2-48e9-b9e8-e0047f79c491"
      },
      "source": [
        "!git clone \"https://github.com/experiencor/raccoon_dataset.git\" \"/content/raccoon_dataset\""
      ],
      "execution_count": null,
      "outputs": [
        {
          "output_type": "stream",
          "text": [
            "Cloning into '/content/raccoon_dataset'...\n",
            "remote: Enumerating objects: 646, done.\u001b[K\n",
            "remote: Total 646 (delta 0), reused 0 (delta 0), pack-reused 646\u001b[K\n",
            "Receiving objects: 100% (646/646), 48.00 MiB | 19.80 MiB/s, done.\n",
            "Resolving deltas: 100% (412/412), done.\n"
          ],
          "name": "stdout"
        }
      ]
    },
    {
      "cell_type": "markdown",
      "metadata": {
        "id": "Le_Q8CpX6K7M"
      },
      "source": [
        "#### Raccoon 데이터 세트의 image와 annotation 디렉토리 설정"
      ]
    },
    {
      "cell_type": "code",
      "metadata": {
        "id": "rXK1Mpl_6K7O"
      },
      "source": [
        "import os\n",
        "\n",
        "ANNO_DIR = os.path.join('/content', 'raccoon_dataset','annotations')\n",
        "IMAGE_DIR = os.path.join('/content', 'raccoon_dataset','images')"
      ],
      "execution_count": null,
      "outputs": []
    },
    {
      "cell_type": "markdown",
      "metadata": {
        "id": "mQ-xFx-d6K7a"
      },
      "source": [
        "#### keras-retina 패키지의 사용 가능한 데이터 포맷\n",
        "* keras-retina 패키지는 VOC, COCO, Open Image, 그리고 csv 형태의 데이터포맷을 모두 사용 가능 \n",
        "* 하지만 VOC,COCO, OpenImage 모두 경연대회에서 사용된 디렉토리 구조가 필요함.   \n",
        "* Raccoon Dataset을 csv 형태의 데이터 포맷을 활용하여 데이터 입력 적용\n",
        "* csv 형태의 annotation과 class mapping format 필요.  \n",
        "  * annotation은 아래와 같이 표현 가능  \n",
        "    * /data/imgs/img_001.jpg,837,346,981,456,cow\n",
        "  * 하나의 이미지 파일에서 두개 이상의 오브젝트가 있다면 두개 이상의 라인으로 정보 표시.   \n",
        "    * /data/imgs/img_002.jpg,215,312,279,391,cat  \n",
        "    * /data/imgs/img_002.jpg,22,5,89,84,bird  "
      ]
    },
    {
      "cell_type": "markdown",
      "metadata": {
        "id": "NubHZkMd6K7c"
      },
      "source": [
        "#### 학습과 검증 데이터 세트를 위한 별도의 annotation파일 생성. \n",
        "* keras-retina패키지는 validation annotation파일을 이용하여 학습 시 evaluation 수행 가능\n",
        "* 아래는 80%의 xml파일을 train csv로, 나머지 20% xml파일은 valid csv 로 생성"
      ]
    },
    {
      "cell_type": "code",
      "metadata": {
        "id": "ZvG2uCK0ILTv"
      },
      "source": [
        "import numpy as np"
      ],
      "execution_count": null,
      "outputs": []
    },
    {
      "cell_type": "code",
      "metadata": {
        "id": "KneoIv6IIZvG"
      },
      "source": [
        "xml_files = [xml_file for xml_file in os.listdir(ANNO_DIR)]"
      ],
      "execution_count": null,
      "outputs": []
    },
    {
      "cell_type": "code",
      "metadata": {
        "id": "PEVZJtHbIzUq",
        "colab": {
          "base_uri": "https://localhost:8080/",
          "height": 35
        },
        "outputId": "976aac39-acf4-4958-fe16-6733164d872f"
      },
      "source": [
        "len(xml_files)"
      ],
      "execution_count": null,
      "outputs": [
        {
          "output_type": "execute_result",
          "data": {
            "text/plain": [
              "200"
            ]
          },
          "metadata": {
            "tags": []
          },
          "execution_count": 21
        }
      ]
    },
    {
      "cell_type": "code",
      "metadata": {
        "id": "aaXvnd4XJaTX"
      },
      "source": [
        "xml_files = np.array(xml_files)"
      ],
      "execution_count": null,
      "outputs": []
    },
    {
      "cell_type": "code",
      "metadata": {
        "id": "DwFkPAVxJby8",
        "colab": {
          "base_uri": "https://localhost:8080/",
          "height": 35
        },
        "outputId": "3a7bca4c-03d9-497f-a834-c7e1aca7933d"
      },
      "source": [
        "xml_files.shape"
      ],
      "execution_count": null,
      "outputs": [
        {
          "output_type": "execute_result",
          "data": {
            "text/plain": [
              "(200,)"
            ]
          },
          "metadata": {
            "tags": []
          },
          "execution_count": 26
        }
      ]
    },
    {
      "cell_type": "code",
      "metadata": {
        "id": "Hc3xWHw_JpZ4"
      },
      "source": [
        "total_indexes = np.arange(0, total_cnt)"
      ],
      "execution_count": null,
      "outputs": []
    },
    {
      "cell_type": "code",
      "metadata": {
        "id": "Id2I-LSGJrxC",
        "colab": {
          "base_uri": "https://localhost:8080/",
          "height": 300
        },
        "outputId": "6e43cbcc-ff7c-47ef-f2a4-7f3c975a4858"
      },
      "source": [
        "total_indexes"
      ],
      "execution_count": null,
      "outputs": [
        {
          "output_type": "execute_result",
          "data": {
            "text/plain": [
              "array([  0,   1,   2,   3,   4,   5,   6,   7,   8,   9,  10,  11,  12,\n",
              "        13,  14,  15,  16,  17,  18,  19,  20,  21,  22,  23,  24,  25,\n",
              "        26,  27,  28,  29,  30,  31,  32,  33,  34,  35,  36,  37,  38,\n",
              "        39,  40,  41,  42,  43,  44,  45,  46,  47,  48,  49,  50,  51,\n",
              "        52,  53,  54,  55,  56,  57,  58,  59,  60,  61,  62,  63,  64,\n",
              "        65,  66,  67,  68,  69,  70,  71,  72,  73,  74,  75,  76,  77,\n",
              "        78,  79,  80,  81,  82,  83,  84,  85,  86,  87,  88,  89,  90,\n",
              "        91,  92,  93,  94,  95,  96,  97,  98,  99, 100, 101, 102, 103,\n",
              "       104, 105, 106, 107, 108, 109, 110, 111, 112, 113, 114, 115, 116,\n",
              "       117, 118, 119, 120, 121, 122, 123, 124, 125, 126, 127, 128, 129,\n",
              "       130, 131, 132, 133, 134, 135, 136, 137, 138, 139, 140, 141, 142,\n",
              "       143, 144, 145, 146, 147, 148, 149, 150, 151, 152, 153, 154, 155,\n",
              "       156, 157, 158, 159, 160, 161, 162, 163, 164, 165, 166, 167, 168,\n",
              "       169, 170, 171, 172, 173, 174, 175, 176, 177, 178, 179, 180, 181,\n",
              "       182, 183, 184, 185, 186, 187, 188, 189, 190, 191, 192, 193, 194,\n",
              "       195, 196, 197, 198, 199])"
            ]
          },
          "metadata": {
            "tags": []
          },
          "execution_count": 30
        }
      ]
    },
    {
      "cell_type": "code",
      "metadata": {
        "id": "AGduXC4QIejL"
      },
      "source": [
        "valid_indexes = np.random.choice(total_indexes, valid_cnt, replace=False)"
      ],
      "execution_count": null,
      "outputs": []
    },
    {
      "cell_type": "code",
      "metadata": {
        "id": "CqkMvMjoJyQE",
        "colab": {
          "base_uri": "https://localhost:8080/",
          "height": 88
        },
        "outputId": "ef511dba-9ec5-4bed-e54d-5d11a06b7f36"
      },
      "source": [
        "valid_indexes"
      ],
      "execution_count": null,
      "outputs": [
        {
          "output_type": "execute_result",
          "data": {
            "text/plain": [
              "array([174,  73,  47,  44, 164, 122, 134,  46,  90,  64, 106, 155, 179,\n",
              "        63,   6, 196, 157, 184,   3,  65, 105, 133, 108, 186,  99,  37,\n",
              "       114, 193,  27, 181,  76, 151,  83,  69,  42,  31,  50, 136, 197,\n",
              "        96])"
            ]
          },
          "metadata": {
            "tags": []
          },
          "execution_count": 32
        }
      ]
    },
    {
      "cell_type": "code",
      "metadata": {
        "id": "MIzZd_L0J3xP"
      },
      "source": [
        "train_indexes = total_indexes[~np.isin(total_indexes, valid_indexes)]"
      ],
      "execution_count": null,
      "outputs": []
    },
    {
      "cell_type": "code",
      "metadata": {
        "id": "FurwZnXKKI2D",
        "colab": {
          "base_uri": "https://localhost:8080/",
          "height": 247
        },
        "outputId": "0d00a464-a5d5-410c-f04b-5a18c6f96074"
      },
      "source": [
        "train_indexes"
      ],
      "execution_count": null,
      "outputs": [
        {
          "output_type": "execute_result",
          "data": {
            "text/plain": [
              "array([  0,   1,   2,   4,   5,   7,   8,   9,  10,  11,  12,  13,  14,\n",
              "        15,  16,  17,  18,  19,  20,  21,  22,  23,  24,  25,  26,  28,\n",
              "        29,  30,  32,  33,  34,  35,  36,  38,  39,  40,  41,  43,  45,\n",
              "        48,  49,  51,  52,  53,  54,  55,  56,  57,  58,  59,  60,  61,\n",
              "        62,  66,  67,  68,  70,  71,  72,  74,  75,  77,  78,  79,  80,\n",
              "        81,  82,  84,  85,  86,  87,  88,  89,  91,  92,  93,  94,  95,\n",
              "        97,  98, 100, 101, 102, 103, 104, 107, 109, 110, 111, 112, 113,\n",
              "       115, 116, 117, 118, 119, 120, 121, 123, 124, 125, 126, 127, 128,\n",
              "       129, 130, 131, 132, 135, 137, 138, 139, 140, 141, 142, 143, 144,\n",
              "       145, 146, 147, 148, 149, 150, 152, 153, 154, 156, 158, 159, 160,\n",
              "       161, 162, 163, 165, 166, 167, 168, 169, 170, 171, 172, 173, 175,\n",
              "       176, 177, 178, 180, 182, 183, 185, 187, 188, 189, 190, 191, 192,\n",
              "       194, 195, 198, 199])"
            ]
          },
          "metadata": {
            "tags": []
          },
          "execution_count": 34
        }
      ]
    },
    {
      "cell_type": "code",
      "metadata": {
        "id": "1Oi9oyZx6K7e"
      },
      "source": [
        "def get_train_valid_indexes(anno_path, valid_size ):\n",
        "    np.random.seed(0)\n",
        "    \n",
        "    xml_files = [xml_file for xml_file in os.listdir(anno_path)]\n",
        "    xml_files = np.array(xml_files)\n",
        "    total_cnt = xml_files.shape[0]\n",
        "    valid_cnt = int(total_cnt * valid_size)\n",
        "    \n",
        "    total_indexes = np.arange(0, total_cnt)\n",
        "    valid_indexes = np.random.choice(total_indexes, valid_cnt, replace=False)\n",
        "    train_indexes = total_indexes[~np.isin(total_indexes, valid_indexes)]\n",
        "    \n",
        "    return train_indexes, valid_indexes"
      ],
      "execution_count": null,
      "outputs": []
    },
    {
      "cell_type": "code",
      "metadata": {
        "id": "E1dEEuqU6K7n",
        "colab": {
          "base_uri": "https://localhost:8080/",
          "height": 35
        },
        "outputId": "ef9f24d0-a987-4596-9180-a6c906f1c668"
      },
      "source": [
        "train_indexes, valid_indexes = get_train_valid_indexes(ANNO_DIR, 0.2)\n",
        "train_indexes.shape, valid_indexes.shape"
      ],
      "execution_count": null,
      "outputs": [
        {
          "output_type": "execute_result",
          "data": {
            "text/plain": [
              "((160,), (40,))"
            ]
          },
          "metadata": {
            "tags": []
          },
          "execution_count": 36
        }
      ]
    },
    {
      "cell_type": "markdown",
      "metadata": {
        "id": "taTIiSAk6K7w"
      },
      "source": [
        "#### csv annotation 데이터 파일을 만들기 위한 함수 생성. \n",
        "* 인자로 annotation 디렉토리명, csv형태로 만들어질 파일명을 주면 생성파일명으로 csv 형태의 annotation 데이터 파일 생성.  "
      ]
    },
    {
      "cell_type": "code",
      "metadata": {
        "id": "gdRMYbLDeqke"
      },
      "source": [
        "import glob\n",
        "import xml.etree.ElementTree as ET"
      ],
      "execution_count": null,
      "outputs": []
    },
    {
      "cell_type": "code",
      "metadata": {
        "id": "4zS2tuzYeoeM"
      },
      "source": [
        "xml_list = np.array([xml_file for xml_file in glob.glob(ANNO_DIR + '/*.xml')])"
      ],
      "execution_count": null,
      "outputs": []
    },
    {
      "cell_type": "code",
      "metadata": {
        "id": "o-Tk4njGeuaa",
        "colab": {
          "base_uri": "https://localhost:8080/",
          "height": 35
        },
        "outputId": "6e4138ce-f7a7-4b87-f0ee-5deb5438c517"
      },
      "source": [
        "xml_list[0]"
      ],
      "execution_count": null,
      "outputs": [
        {
          "output_type": "execute_result",
          "data": {
            "application/vnd.google.colaboratory.intrinsic+json": {
              "type": "string"
            },
            "text/plain": [
              "'/content/raccoon_dataset/annotations/raccoon-19.xml'"
            ]
          },
          "metadata": {
            "tags": []
          },
          "execution_count": 11
        }
      ]
    },
    {
      "cell_type": "code",
      "metadata": {
        "id": "GixLHRTPe_CZ",
        "colab": {
          "base_uri": "https://localhost:8080/",
          "height": 35
        },
        "outputId": "ecd521ce-24bc-4f7a-9231-cf5895a142bd"
      },
      "source": [
        "tree = ET.parse(xml_list[0])\n",
        "type(tree)"
      ],
      "execution_count": null,
      "outputs": [
        {
          "output_type": "execute_result",
          "data": {
            "text/plain": [
              "xml.etree.ElementTree.ElementTree"
            ]
          },
          "metadata": {
            "tags": []
          },
          "execution_count": 12
        }
      ]
    },
    {
      "cell_type": "code",
      "metadata": {
        "id": "WsMinuDFfCpW",
        "colab": {
          "base_uri": "https://localhost:8080/",
          "height": 35
        },
        "outputId": "2581c049-b808-4f1c-d105-26f56c33f1b5"
      },
      "source": [
        "root = tree.getroot()\n",
        "type(root)"
      ],
      "execution_count": null,
      "outputs": [
        {
          "output_type": "execute_result",
          "data": {
            "text/plain": [
              "xml.etree.ElementTree.Element"
            ]
          },
          "metadata": {
            "tags": []
          },
          "execution_count": 13
        }
      ]
    },
    {
      "cell_type": "code",
      "metadata": {
        "id": "H1KfEH9Ne8bI",
        "colab": {
          "base_uri": "https://localhost:8080/",
          "height": 35
        },
        "outputId": "3af6551c-7d10-45ac-f075-a5d53519390a"
      },
      "source": [
        "root.find('filename').text"
      ],
      "execution_count": null,
      "outputs": [
        {
          "output_type": "execute_result",
          "data": {
            "application/vnd.google.colaboratory.intrinsic+json": {
              "type": "string"
            },
            "text/plain": [
              "'raccoon-19.jpg'"
            ]
          },
          "metadata": {
            "tags": []
          },
          "execution_count": 14
        }
      ]
    },
    {
      "cell_type": "code",
      "metadata": {
        "id": "919ibz-mfN9h",
        "colab": {
          "base_uri": "https://localhost:8080/",
          "height": 52
        },
        "outputId": "0b5a498a-d46e-4468-a371-d9dac9c34e28"
      },
      "source": [
        "for obj in root.findall('object'):\n",
        "  print(type(obj))\n",
        "  xmlbox = obj.find('bndbox')\n",
        "  x1 = int(xmlbox.find('xmin').text)\n",
        "  y1 = int(xmlbox.find('ymin').text)\n",
        "  x2 = int(xmlbox.find('xmax').text)\n",
        "  y2 = int(xmlbox.find('ymax').text)\n",
        "  value_str = ('{0},{1},{2},{3}').format(x1, y1, x2, y2)\n",
        "  print(value_str)"
      ],
      "execution_count": null,
      "outputs": [
        {
          "output_type": "stream",
          "text": [
            "<class 'xml.etree.ElementTree.Element'>\n",
            "87,8,182,89\n"
          ],
          "name": "stdout"
        }
      ]
    },
    {
      "cell_type": "code",
      "metadata": {
        "id": "SvfRojRz6K7x"
      },
      "source": [
        "def xml_to_csv_sampling(path, output_filename, sample_index):\n",
        "    xml_list = np.array([xml_file for xml_file in glob.glob(path + '/*.xml')])\n",
        "    xml_list = xml_list[sample_index]\n",
        "\n",
        "    # xml 확장자를 가진 모든 파일의 절대 경로로 xml_file할당. \n",
        "    with open(output_filename, \"w\") as train_csv_file:\n",
        "        for xml_file in xml_list:\n",
        "            # xml 파일을 parsing하여 XML Element형태의 Element Tree를 생성하여 object 정보를 추출. \n",
        "            tree = ET.parse(xml_file)\n",
        "            root = tree.getroot()\n",
        "            # 파일내에 있는 모든 object Element를 찾음. \n",
        "            full_image_name = os.path.join(IMAGE_DIR, root.find('filename').text)\n",
        "            value_str_list = ' '\n",
        "            for obj in root.findall('object'):\n",
        "                xmlbox = obj.find('bndbox')\n",
        "                x1 = int(xmlbox.find('xmin').text)\n",
        "                y1 = int(xmlbox.find('ymin').text)\n",
        "                x2 = int(xmlbox.find('xmax').text)\n",
        "                y2 = int(xmlbox.find('ymax').text)\n",
        "                # 단 하나의 \n",
        "                class_name='raccoon'\n",
        "                value_str = ('{0},{1},{2},{3},{4},{5}').format(full_image_name,x1, y1, x2, y2, class_name)\n",
        "                # object별 정보를 tuple형태로 object_list에 저장. \n",
        "                train_csv_file.write(value_str+'\\n')\n",
        "        # xml file 찾는 for loop 종료 "
      ],
      "execution_count": null,
      "outputs": []
    },
    {
      "cell_type": "code",
      "metadata": {
        "id": "xwEHYHEP6K76"
      },
      "source": [
        "train_indexes, valid_indexes = get_train_valid_indexes(ANNO_DIR, 0.2)\n",
        "xml_to_csv_sampling(ANNO_DIR, os.path.join(ANNO_DIR,'raccoon_anno_retina_train.csv'), train_indexes)\n",
        "xml_to_csv_sampling(ANNO_DIR, os.path.join(ANNO_DIR,'raccoon_anno_retina_valid.csv'), valid_indexes)"
      ],
      "execution_count": null,
      "outputs": []
    },
    {
      "cell_type": "code",
      "metadata": {
        "id": "xeKHOgGy9NJh"
      },
      "source": [
        "with open('/content/raccoon_dataset/annotations/raccoon_class.txt', \"w\") as f:\n",
        "    f.write(\"raccoon,0\")"
      ],
      "execution_count": null,
      "outputs": []
    },
    {
      "cell_type": "markdown",
      "metadata": {
        "id": "8YZy2gAx6K8E"
      },
      "source": [
        "#### keras_retinanet/bin/train.py를 이용하여 학습 수행. \n",
        "* keras-retinanet 패키지는 학습시간이 비교적 오래 필요. \n",
        "* 특히 batch-size 가 크게 설정하기 어려움. 2이상 설정 시 메모리를 과다 사용으로 segmentation fault 오류 발생.\n",
        "* Shell에서 export TF_CUDNN_USE_AUTOTUNE=0  설정하면 batch-size를 2로 늘릴 수 있으나 큰 학습 시간 단축은 기대하기 어려움. \n",
        "* Raccoon 데이터 세트는 steps=200, epochs=20 정도면 충분한 학습이 가능. \n",
        "* 학습 시 epoch가 완료될 때마다 snapshots 디렉토리에 모델들을 계속 생성하여 저장. \n",
        "* train.py는 많은 환경 변수를 명령 인자로 입력해야함. 명령 인자로 입력하지 않을 경우 Default 환경 변수값으로 입력됨. Default 환경 변수값에 대한 이해 필요. "
      ]
    },
    {
      "cell_type": "code",
      "metadata": {
        "id": "rdLG6OF662Qe"
      },
      "source": [
        "!chmod 777 ./keras_retinanet/bin/train.py"
      ],
      "execution_count": null,
      "outputs": []
    },
    {
      "cell_type": "code",
      "metadata": {
        "id": "IUjP1cVH6K8G",
        "colab": {
          "base_uri": "https://localhost:8080/",
          "height": 1000
        },
        "outputId": "5b003c7f-5dd9-4445-d019-2e9216c04cb6"
      },
      "source": [
        "# 아래는 shell에서 수행해야 합니다. \n",
        "! ./keras_retinanet/bin/train.py --epochs=20 --steps=200 \\\n",
        "  csv /content/raccoon_dataset/annotations/raccoon_anno_retina_train.csv \\\n",
        "      /content/raccoon_dataset/annotations/raccoon_class.txt \\\n",
        "      --val-annotations=/content/raccoon_dataset/annotations/raccoon_anno_retina_valid.csv \\\n"
      ],
      "execution_count": null,
      "outputs": [
        {
          "output_type": "stream",
          "text": [
            "Using TensorFlow backend.\n",
            "WARNING:tensorflow:From ./keras_retinanet/bin/train.py:66: The name tf.ConfigProto is deprecated. Please use tf.compat.v1.ConfigProto instead.\n",
            "\n",
            "WARNING:tensorflow:From ./keras_retinanet/bin/train.py:68: The name tf.Session is deprecated. Please use tf.compat.v1.Session instead.\n",
            "\n",
            "2020-10-21 11:47:06.204775: I tensorflow/core/platform/cpu_feature_guard.cc:142] Your CPU supports instructions that this TensorFlow binary was not compiled to use: AVX512F\n",
            "2020-10-21 11:47:06.258887: I tensorflow/core/platform/profile_utils/cpu_utils.cc:94] CPU Frequency: 2000134999 Hz\n",
            "2020-10-21 11:47:06.259192: I tensorflow/compiler/xla/service/service.cc:168] XLA service 0x17daa00 initialized for platform Host (this does not guarantee that XLA will be used). Devices:\n",
            "2020-10-21 11:47:06.259232: I tensorflow/compiler/xla/service/service.cc:176]   StreamExecutor device (0): Host, Default Version\n",
            "2020-10-21 11:47:06.264211: I tensorflow/stream_executor/platform/default/dso_loader.cc:44] Successfully opened dynamic library libcuda.so.1\n",
            "2020-10-21 11:47:06.429723: I tensorflow/stream_executor/cuda/cuda_gpu_executor.cc:983] successful NUMA node read from SysFS had negative value (-1), but there must be at least one NUMA node, so returning NUMA node zero\n",
            "2020-10-21 11:47:06.430476: I tensorflow/compiler/xla/service/service.cc:168] XLA service 0x17dabc0 initialized for platform CUDA (this does not guarantee that XLA will be used). Devices:\n",
            "2020-10-21 11:47:06.430509: I tensorflow/compiler/xla/service/service.cc:176]   StreamExecutor device (0): Tesla V100-SXM2-16GB, Compute Capability 7.0\n",
            "2020-10-21 11:47:06.431571: I tensorflow/stream_executor/cuda/cuda_gpu_executor.cc:983] successful NUMA node read from SysFS had negative value (-1), but there must be at least one NUMA node, so returning NUMA node zero\n",
            "2020-10-21 11:47:06.432183: I tensorflow/core/common_runtime/gpu/gpu_device.cc:1639] Found device 0 with properties: \n",
            "name: Tesla V100-SXM2-16GB major: 7 minor: 0 memoryClockRate(GHz): 1.53\n",
            "pciBusID: 0000:00:04.0\n",
            "2020-10-21 11:47:06.432521: I tensorflow/stream_executor/platform/default/dso_loader.cc:44] Successfully opened dynamic library libcudart.so.10.1\n",
            "2020-10-21 11:47:06.686792: I tensorflow/stream_executor/platform/default/dso_loader.cc:44] Successfully opened dynamic library libcublas.so.10\n",
            "2020-10-21 11:47:06.808547: I tensorflow/stream_executor/platform/default/dso_loader.cc:44] Successfully opened dynamic library libcufft.so.10\n",
            "2020-10-21 11:47:06.842012: I tensorflow/stream_executor/platform/default/dso_loader.cc:44] Successfully opened dynamic library libcurand.so.10\n",
            "2020-10-21 11:47:07.100354: I tensorflow/stream_executor/platform/default/dso_loader.cc:44] Successfully opened dynamic library libcusolver.so.10\n",
            "2020-10-21 11:47:07.140187: I tensorflow/stream_executor/platform/default/dso_loader.cc:44] Successfully opened dynamic library libcusparse.so.10\n",
            "2020-10-21 11:47:07.615703: I tensorflow/stream_executor/platform/default/dso_loader.cc:44] Successfully opened dynamic library libcudnn.so.7\n",
            "2020-10-21 11:47:07.615897: I tensorflow/stream_executor/cuda/cuda_gpu_executor.cc:983] successful NUMA node read from SysFS had negative value (-1), but there must be at least one NUMA node, so returning NUMA node zero\n",
            "2020-10-21 11:47:07.616558: I tensorflow/stream_executor/cuda/cuda_gpu_executor.cc:983] successful NUMA node read from SysFS had negative value (-1), but there must be at least one NUMA node, so returning NUMA node zero\n",
            "2020-10-21 11:47:07.617158: I tensorflow/core/common_runtime/gpu/gpu_device.cc:1767] Adding visible gpu devices: 0\n",
            "2020-10-21 11:47:07.620859: I tensorflow/stream_executor/platform/default/dso_loader.cc:44] Successfully opened dynamic library libcudart.so.10.1\n",
            "2020-10-21 11:47:07.622259: I tensorflow/core/common_runtime/gpu/gpu_device.cc:1180] Device interconnect StreamExecutor with strength 1 edge matrix:\n",
            "2020-10-21 11:47:07.622290: I tensorflow/core/common_runtime/gpu/gpu_device.cc:1186]      0 \n",
            "2020-10-21 11:47:07.622301: I tensorflow/core/common_runtime/gpu/gpu_device.cc:1199] 0:   N \n",
            "2020-10-21 11:47:07.634833: I tensorflow/stream_executor/cuda/cuda_gpu_executor.cc:983] successful NUMA node read from SysFS had negative value (-1), but there must be at least one NUMA node, so returning NUMA node zero\n",
            "2020-10-21 11:47:07.635456: I tensorflow/stream_executor/cuda/cuda_gpu_executor.cc:983] successful NUMA node read from SysFS had negative value (-1), but there must be at least one NUMA node, so returning NUMA node zero\n",
            "2020-10-21 11:47:07.636062: I tensorflow/core/common_runtime/gpu/gpu_device.cc:1325] Created TensorFlow device (/job:localhost/replica:0/task:0/device:GPU:0 with 15024 MB memory) -> physical GPU (device: 0, name: Tesla V100-SXM2-16GB, pci bus id: 0000:00:04.0, compute capability: 7.0)\n",
            "Downloading data from https://github.com/fizyr/keras-models/releases/download/v0.0.1/ResNet-50-model.keras.h5\n",
            "102948864/102945312 [==============================] - 3s 0us/step\n",
            "Creating model, this may take a second...\n",
            "WARNING:tensorflow:From /tensorflow-1.15.2/python3.6/tensorflow_core/python/ops/resource_variable_ops.py:1630: calling BaseResourceVariable.__init__ (from tensorflow.python.ops.resource_variable_ops) with constraint is deprecated and will be removed in a future version.\n",
            "Instructions for updating:\n",
            "If using Keras pass *_constraint arguments to layers.\n",
            "WARNING:tensorflow:From /tensorflow-1.15.2/python3.6/keras/backend/tensorflow_backend.py:4070: The name tf.nn.max_pool is deprecated. Please use tf.nn.max_pool2d instead.\n",
            "\n",
            "WARNING:tensorflow:From ./keras_retinanet/bin/../../keras_retinanet/backend/tensorflow_backend.py:68: The name tf.image.resize_images is deprecated. Please use tf.image.resize instead.\n",
            "\n",
            "tracking <tf.Variable 'Variable:0' shape=(9, 4) dtype=float32> anchors\n",
            "tracking <tf.Variable 'Variable_1:0' shape=(9, 4) dtype=float32> anchors\n",
            "tracking <tf.Variable 'Variable_2:0' shape=(9, 4) dtype=float32> anchors\n",
            "tracking <tf.Variable 'Variable_3:0' shape=(9, 4) dtype=float32> anchors\n",
            "tracking <tf.Variable 'Variable_4:0' shape=(9, 4) dtype=float32> anchors\n",
            "WARNING:tensorflow:From ./keras_retinanet/bin/../../keras_retinanet/backend/tensorflow_backend.py:104: where (from tensorflow.python.ops.array_ops) is deprecated and will be removed in a future version.\n",
            "Instructions for updating:\n",
            "Use tf.where in 2.0, which has the same broadcast rule as np.where\n",
            "Model: \"retinanet\"\n",
            "__________________________________________________________________________________________________\n",
            "Layer (type)                    Output Shape         Param #     Connected to                     \n",
            "==================================================================================================\n",
            "input_1 (InputLayer)            (None, None, None, 3 0                                            \n",
            "__________________________________________________________________________________________________\n",
            "conv1 (Conv2D)                  (None, None, None, 6 9408        input_1[0][0]                    \n",
            "__________________________________________________________________________________________________\n",
            "bn_conv1 (BatchNormalization)   (None, None, None, 6 256         conv1[0][0]                      \n",
            "__________________________________________________________________________________________________\n",
            "conv1_relu (Activation)         (None, None, None, 6 0           bn_conv1[0][0]                   \n",
            "__________________________________________________________________________________________________\n",
            "pool1 (MaxPooling2D)            (None, None, None, 6 0           conv1_relu[0][0]                 \n",
            "__________________________________________________________________________________________________\n",
            "res2a_branch2a (Conv2D)         (None, None, None, 6 4096        pool1[0][0]                      \n",
            "__________________________________________________________________________________________________\n",
            "bn2a_branch2a (BatchNormalizati (None, None, None, 6 256         res2a_branch2a[0][0]             \n",
            "__________________________________________________________________________________________________\n",
            "res2a_branch2a_relu (Activation (None, None, None, 6 0           bn2a_branch2a[0][0]              \n",
            "__________________________________________________________________________________________________\n",
            "padding2a_branch2b (ZeroPadding (None, None, None, 6 0           res2a_branch2a_relu[0][0]        \n",
            "__________________________________________________________________________________________________\n",
            "res2a_branch2b (Conv2D)         (None, None, None, 6 36864       padding2a_branch2b[0][0]         \n",
            "__________________________________________________________________________________________________\n",
            "bn2a_branch2b (BatchNormalizati (None, None, None, 6 256         res2a_branch2b[0][0]             \n",
            "__________________________________________________________________________________________________\n",
            "res2a_branch2b_relu (Activation (None, None, None, 6 0           bn2a_branch2b[0][0]              \n",
            "__________________________________________________________________________________________________\n",
            "res2a_branch2c (Conv2D)         (None, None, None, 2 16384       res2a_branch2b_relu[0][0]        \n",
            "__________________________________________________________________________________________________\n",
            "res2a_branch1 (Conv2D)          (None, None, None, 2 16384       pool1[0][0]                      \n",
            "__________________________________________________________________________________________________\n",
            "bn2a_branch2c (BatchNormalizati (None, None, None, 2 1024        res2a_branch2c[0][0]             \n",
            "__________________________________________________________________________________________________\n",
            "bn2a_branch1 (BatchNormalizatio (None, None, None, 2 1024        res2a_branch1[0][0]              \n",
            "__________________________________________________________________________________________________\n",
            "res2a (Add)                     (None, None, None, 2 0           bn2a_branch2c[0][0]              \n",
            "                                                                 bn2a_branch1[0][0]               \n",
            "__________________________________________________________________________________________________\n",
            "res2a_relu (Activation)         (None, None, None, 2 0           res2a[0][0]                      \n",
            "__________________________________________________________________________________________________\n",
            "res2b_branch2a (Conv2D)         (None, None, None, 6 16384       res2a_relu[0][0]                 \n",
            "__________________________________________________________________________________________________\n",
            "bn2b_branch2a (BatchNormalizati (None, None, None, 6 256         res2b_branch2a[0][0]             \n",
            "__________________________________________________________________________________________________\n",
            "res2b_branch2a_relu (Activation (None, None, None, 6 0           bn2b_branch2a[0][0]              \n",
            "__________________________________________________________________________________________________\n",
            "padding2b_branch2b (ZeroPadding (None, None, None, 6 0           res2b_branch2a_relu[0][0]        \n",
            "__________________________________________________________________________________________________\n",
            "res2b_branch2b (Conv2D)         (None, None, None, 6 36864       padding2b_branch2b[0][0]         \n",
            "__________________________________________________________________________________________________\n",
            "bn2b_branch2b (BatchNormalizati (None, None, None, 6 256         res2b_branch2b[0][0]             \n",
            "__________________________________________________________________________________________________\n",
            "res2b_branch2b_relu (Activation (None, None, None, 6 0           bn2b_branch2b[0][0]              \n",
            "__________________________________________________________________________________________________\n",
            "res2b_branch2c (Conv2D)         (None, None, None, 2 16384       res2b_branch2b_relu[0][0]        \n",
            "__________________________________________________________________________________________________\n",
            "bn2b_branch2c (BatchNormalizati (None, None, None, 2 1024        res2b_branch2c[0][0]             \n",
            "__________________________________________________________________________________________________\n",
            "res2b (Add)                     (None, None, None, 2 0           bn2b_branch2c[0][0]              \n",
            "                                                                 res2a_relu[0][0]                 \n",
            "__________________________________________________________________________________________________\n",
            "res2b_relu (Activation)         (None, None, None, 2 0           res2b[0][0]                      \n",
            "__________________________________________________________________________________________________\n",
            "res2c_branch2a (Conv2D)         (None, None, None, 6 16384       res2b_relu[0][0]                 \n",
            "__________________________________________________________________________________________________\n",
            "bn2c_branch2a (BatchNormalizati (None, None, None, 6 256         res2c_branch2a[0][0]             \n",
            "__________________________________________________________________________________________________\n",
            "res2c_branch2a_relu (Activation (None, None, None, 6 0           bn2c_branch2a[0][0]              \n",
            "__________________________________________________________________________________________________\n",
            "padding2c_branch2b (ZeroPadding (None, None, None, 6 0           res2c_branch2a_relu[0][0]        \n",
            "__________________________________________________________________________________________________\n",
            "res2c_branch2b (Conv2D)         (None, None, None, 6 36864       padding2c_branch2b[0][0]         \n",
            "__________________________________________________________________________________________________\n",
            "bn2c_branch2b (BatchNormalizati (None, None, None, 6 256         res2c_branch2b[0][0]             \n",
            "__________________________________________________________________________________________________\n",
            "res2c_branch2b_relu (Activation (None, None, None, 6 0           bn2c_branch2b[0][0]              \n",
            "__________________________________________________________________________________________________\n",
            "res2c_branch2c (Conv2D)         (None, None, None, 2 16384       res2c_branch2b_relu[0][0]        \n",
            "__________________________________________________________________________________________________\n",
            "bn2c_branch2c (BatchNormalizati (None, None, None, 2 1024        res2c_branch2c[0][0]             \n",
            "__________________________________________________________________________________________________\n",
            "res2c (Add)                     (None, None, None, 2 0           bn2c_branch2c[0][0]              \n",
            "                                                                 res2b_relu[0][0]                 \n",
            "__________________________________________________________________________________________________\n",
            "res2c_relu (Activation)         (None, None, None, 2 0           res2c[0][0]                      \n",
            "__________________________________________________________________________________________________\n",
            "res3a_branch2a (Conv2D)         (None, None, None, 1 32768       res2c_relu[0][0]                 \n",
            "__________________________________________________________________________________________________\n",
            "bn3a_branch2a (BatchNormalizati (None, None, None, 1 512         res3a_branch2a[0][0]             \n",
            "__________________________________________________________________________________________________\n",
            "res3a_branch2a_relu (Activation (None, None, None, 1 0           bn3a_branch2a[0][0]              \n",
            "__________________________________________________________________________________________________\n",
            "padding3a_branch2b (ZeroPadding (None, None, None, 1 0           res3a_branch2a_relu[0][0]        \n",
            "__________________________________________________________________________________________________\n",
            "res3a_branch2b (Conv2D)         (None, None, None, 1 147456      padding3a_branch2b[0][0]         \n",
            "__________________________________________________________________________________________________\n",
            "bn3a_branch2b (BatchNormalizati (None, None, None, 1 512         res3a_branch2b[0][0]             \n",
            "__________________________________________________________________________________________________\n",
            "res3a_branch2b_relu (Activation (None, None, None, 1 0           bn3a_branch2b[0][0]              \n",
            "__________________________________________________________________________________________________\n",
            "res3a_branch2c (Conv2D)         (None, None, None, 5 65536       res3a_branch2b_relu[0][0]        \n",
            "__________________________________________________________________________________________________\n",
            "res3a_branch1 (Conv2D)          (None, None, None, 5 131072      res2c_relu[0][0]                 \n",
            "__________________________________________________________________________________________________\n",
            "bn3a_branch2c (BatchNormalizati (None, None, None, 5 2048        res3a_branch2c[0][0]             \n",
            "__________________________________________________________________________________________________\n",
            "bn3a_branch1 (BatchNormalizatio (None, None, None, 5 2048        res3a_branch1[0][0]              \n",
            "__________________________________________________________________________________________________\n",
            "res3a (Add)                     (None, None, None, 5 0           bn3a_branch2c[0][0]              \n",
            "                                                                 bn3a_branch1[0][0]               \n",
            "__________________________________________________________________________________________________\n",
            "res3a_relu (Activation)         (None, None, None, 5 0           res3a[0][0]                      \n",
            "__________________________________________________________________________________________________\n",
            "res3b_branch2a (Conv2D)         (None, None, None, 1 65536       res3a_relu[0][0]                 \n",
            "__________________________________________________________________________________________________\n",
            "bn3b_branch2a (BatchNormalizati (None, None, None, 1 512         res3b_branch2a[0][0]             \n",
            "__________________________________________________________________________________________________\n",
            "res3b_branch2a_relu (Activation (None, None, None, 1 0           bn3b_branch2a[0][0]              \n",
            "__________________________________________________________________________________________________\n",
            "padding3b_branch2b (ZeroPadding (None, None, None, 1 0           res3b_branch2a_relu[0][0]        \n",
            "__________________________________________________________________________________________________\n",
            "res3b_branch2b (Conv2D)         (None, None, None, 1 147456      padding3b_branch2b[0][0]         \n",
            "__________________________________________________________________________________________________\n",
            "bn3b_branch2b (BatchNormalizati (None, None, None, 1 512         res3b_branch2b[0][0]             \n",
            "__________________________________________________________________________________________________\n",
            "res3b_branch2b_relu (Activation (None, None, None, 1 0           bn3b_branch2b[0][0]              \n",
            "__________________________________________________________________________________________________\n",
            "res3b_branch2c (Conv2D)         (None, None, None, 5 65536       res3b_branch2b_relu[0][0]        \n",
            "__________________________________________________________________________________________________\n",
            "bn3b_branch2c (BatchNormalizati (None, None, None, 5 2048        res3b_branch2c[0][0]             \n",
            "__________________________________________________________________________________________________\n",
            "res3b (Add)                     (None, None, None, 5 0           bn3b_branch2c[0][0]              \n",
            "                                                                 res3a_relu[0][0]                 \n",
            "__________________________________________________________________________________________________\n",
            "res3b_relu (Activation)         (None, None, None, 5 0           res3b[0][0]                      \n",
            "__________________________________________________________________________________________________\n",
            "res3c_branch2a (Conv2D)         (None, None, None, 1 65536       res3b_relu[0][0]                 \n",
            "__________________________________________________________________________________________________\n",
            "bn3c_branch2a (BatchNormalizati (None, None, None, 1 512         res3c_branch2a[0][0]             \n",
            "__________________________________________________________________________________________________\n",
            "res3c_branch2a_relu (Activation (None, None, None, 1 0           bn3c_branch2a[0][0]              \n",
            "__________________________________________________________________________________________________\n",
            "padding3c_branch2b (ZeroPadding (None, None, None, 1 0           res3c_branch2a_relu[0][0]        \n",
            "__________________________________________________________________________________________________\n",
            "res3c_branch2b (Conv2D)         (None, None, None, 1 147456      padding3c_branch2b[0][0]         \n",
            "__________________________________________________________________________________________________\n",
            "bn3c_branch2b (BatchNormalizati (None, None, None, 1 512         res3c_branch2b[0][0]             \n",
            "__________________________________________________________________________________________________\n",
            "res3c_branch2b_relu (Activation (None, None, None, 1 0           bn3c_branch2b[0][0]              \n",
            "__________________________________________________________________________________________________\n",
            "res3c_branch2c (Conv2D)         (None, None, None, 5 65536       res3c_branch2b_relu[0][0]        \n",
            "__________________________________________________________________________________________________\n",
            "bn3c_branch2c (BatchNormalizati (None, None, None, 5 2048        res3c_branch2c[0][0]             \n",
            "__________________________________________________________________________________________________\n",
            "res3c (Add)                     (None, None, None, 5 0           bn3c_branch2c[0][0]              \n",
            "                                                                 res3b_relu[0][0]                 \n",
            "__________________________________________________________________________________________________\n",
            "res3c_relu (Activation)         (None, None, None, 5 0           res3c[0][0]                      \n",
            "__________________________________________________________________________________________________\n",
            "res3d_branch2a (Conv2D)         (None, None, None, 1 65536       res3c_relu[0][0]                 \n",
            "__________________________________________________________________________________________________\n",
            "bn3d_branch2a (BatchNormalizati (None, None, None, 1 512         res3d_branch2a[0][0]             \n",
            "__________________________________________________________________________________________________\n",
            "res3d_branch2a_relu (Activation (None, None, None, 1 0           bn3d_branch2a[0][0]              \n",
            "__________________________________________________________________________________________________\n",
            "padding3d_branch2b (ZeroPadding (None, None, None, 1 0           res3d_branch2a_relu[0][0]        \n",
            "__________________________________________________________________________________________________\n",
            "res3d_branch2b (Conv2D)         (None, None, None, 1 147456      padding3d_branch2b[0][0]         \n",
            "__________________________________________________________________________________________________\n",
            "bn3d_branch2b (BatchNormalizati (None, None, None, 1 512         res3d_branch2b[0][0]             \n",
            "__________________________________________________________________________________________________\n",
            "res3d_branch2b_relu (Activation (None, None, None, 1 0           bn3d_branch2b[0][0]              \n",
            "__________________________________________________________________________________________________\n",
            "res3d_branch2c (Conv2D)         (None, None, None, 5 65536       res3d_branch2b_relu[0][0]        \n",
            "__________________________________________________________________________________________________\n",
            "bn3d_branch2c (BatchNormalizati (None, None, None, 5 2048        res3d_branch2c[0][0]             \n",
            "__________________________________________________________________________________________________\n",
            "res3d (Add)                     (None, None, None, 5 0           bn3d_branch2c[0][0]              \n",
            "                                                                 res3c_relu[0][0]                 \n",
            "__________________________________________________________________________________________________\n",
            "res3d_relu (Activation)         (None, None, None, 5 0           res3d[0][0]                      \n",
            "__________________________________________________________________________________________________\n",
            "res4a_branch2a (Conv2D)         (None, None, None, 2 131072      res3d_relu[0][0]                 \n",
            "__________________________________________________________________________________________________\n",
            "bn4a_branch2a (BatchNormalizati (None, None, None, 2 1024        res4a_branch2a[0][0]             \n",
            "__________________________________________________________________________________________________\n",
            "res4a_branch2a_relu (Activation (None, None, None, 2 0           bn4a_branch2a[0][0]              \n",
            "__________________________________________________________________________________________________\n",
            "padding4a_branch2b (ZeroPadding (None, None, None, 2 0           res4a_branch2a_relu[0][0]        \n",
            "__________________________________________________________________________________________________\n",
            "res4a_branch2b (Conv2D)         (None, None, None, 2 589824      padding4a_branch2b[0][0]         \n",
            "__________________________________________________________________________________________________\n",
            "bn4a_branch2b (BatchNormalizati (None, None, None, 2 1024        res4a_branch2b[0][0]             \n",
            "__________________________________________________________________________________________________\n",
            "res4a_branch2b_relu (Activation (None, None, None, 2 0           bn4a_branch2b[0][0]              \n",
            "__________________________________________________________________________________________________\n",
            "res4a_branch2c (Conv2D)         (None, None, None, 1 262144      res4a_branch2b_relu[0][0]        \n",
            "__________________________________________________________________________________________________\n",
            "res4a_branch1 (Conv2D)          (None, None, None, 1 524288      res3d_relu[0][0]                 \n",
            "__________________________________________________________________________________________________\n",
            "bn4a_branch2c (BatchNormalizati (None, None, None, 1 4096        res4a_branch2c[0][0]             \n",
            "__________________________________________________________________________________________________\n",
            "bn4a_branch1 (BatchNormalizatio (None, None, None, 1 4096        res4a_branch1[0][0]              \n",
            "__________________________________________________________________________________________________\n",
            "res4a (Add)                     (None, None, None, 1 0           bn4a_branch2c[0][0]              \n",
            "                                                                 bn4a_branch1[0][0]               \n",
            "__________________________________________________________________________________________________\n",
            "res4a_relu (Activation)         (None, None, None, 1 0           res4a[0][0]                      \n",
            "__________________________________________________________________________________________________\n",
            "res4b_branch2a (Conv2D)         (None, None, None, 2 262144      res4a_relu[0][0]                 \n",
            "__________________________________________________________________________________________________\n",
            "bn4b_branch2a (BatchNormalizati (None, None, None, 2 1024        res4b_branch2a[0][0]             \n",
            "__________________________________________________________________________________________________\n",
            "res4b_branch2a_relu (Activation (None, None, None, 2 0           bn4b_branch2a[0][0]              \n",
            "__________________________________________________________________________________________________\n",
            "padding4b_branch2b (ZeroPadding (None, None, None, 2 0           res4b_branch2a_relu[0][0]        \n",
            "__________________________________________________________________________________________________\n",
            "res4b_branch2b (Conv2D)         (None, None, None, 2 589824      padding4b_branch2b[0][0]         \n",
            "__________________________________________________________________________________________________\n",
            "bn4b_branch2b (BatchNormalizati (None, None, None, 2 1024        res4b_branch2b[0][0]             \n",
            "__________________________________________________________________________________________________\n",
            "res4b_branch2b_relu (Activation (None, None, None, 2 0           bn4b_branch2b[0][0]              \n",
            "__________________________________________________________________________________________________\n",
            "res4b_branch2c (Conv2D)         (None, None, None, 1 262144      res4b_branch2b_relu[0][0]        \n",
            "__________________________________________________________________________________________________\n",
            "bn4b_branch2c (BatchNormalizati (None, None, None, 1 4096        res4b_branch2c[0][0]             \n",
            "__________________________________________________________________________________________________\n",
            "res4b (Add)                     (None, None, None, 1 0           bn4b_branch2c[0][0]              \n",
            "                                                                 res4a_relu[0][0]                 \n",
            "__________________________________________________________________________________________________\n",
            "res4b_relu (Activation)         (None, None, None, 1 0           res4b[0][0]                      \n",
            "__________________________________________________________________________________________________\n",
            "res4c_branch2a (Conv2D)         (None, None, None, 2 262144      res4b_relu[0][0]                 \n",
            "__________________________________________________________________________________________________\n",
            "bn4c_branch2a (BatchNormalizati (None, None, None, 2 1024        res4c_branch2a[0][0]             \n",
            "__________________________________________________________________________________________________\n",
            "res4c_branch2a_relu (Activation (None, None, None, 2 0           bn4c_branch2a[0][0]              \n",
            "__________________________________________________________________________________________________\n",
            "padding4c_branch2b (ZeroPadding (None, None, None, 2 0           res4c_branch2a_relu[0][0]        \n",
            "__________________________________________________________________________________________________\n",
            "res4c_branch2b (Conv2D)         (None, None, None, 2 589824      padding4c_branch2b[0][0]         \n",
            "__________________________________________________________________________________________________\n",
            "bn4c_branch2b (BatchNormalizati (None, None, None, 2 1024        res4c_branch2b[0][0]             \n",
            "__________________________________________________________________________________________________\n",
            "res4c_branch2b_relu (Activation (None, None, None, 2 0           bn4c_branch2b[0][0]              \n",
            "__________________________________________________________________________________________________\n",
            "res4c_branch2c (Conv2D)         (None, None, None, 1 262144      res4c_branch2b_relu[0][0]        \n",
            "__________________________________________________________________________________________________\n",
            "bn4c_branch2c (BatchNormalizati (None, None, None, 1 4096        res4c_branch2c[0][0]             \n",
            "__________________________________________________________________________________________________\n",
            "res4c (Add)                     (None, None, None, 1 0           bn4c_branch2c[0][0]              \n",
            "                                                                 res4b_relu[0][0]                 \n",
            "__________________________________________________________________________________________________\n",
            "res4c_relu (Activation)         (None, None, None, 1 0           res4c[0][0]                      \n",
            "__________________________________________________________________________________________________\n",
            "res4d_branch2a (Conv2D)         (None, None, None, 2 262144      res4c_relu[0][0]                 \n",
            "__________________________________________________________________________________________________\n",
            "bn4d_branch2a (BatchNormalizati (None, None, None, 2 1024        res4d_branch2a[0][0]             \n",
            "__________________________________________________________________________________________________\n",
            "res4d_branch2a_relu (Activation (None, None, None, 2 0           bn4d_branch2a[0][0]              \n",
            "__________________________________________________________________________________________________\n",
            "padding4d_branch2b (ZeroPadding (None, None, None, 2 0           res4d_branch2a_relu[0][0]        \n",
            "__________________________________________________________________________________________________\n",
            "res4d_branch2b (Conv2D)         (None, None, None, 2 589824      padding4d_branch2b[0][0]         \n",
            "__________________________________________________________________________________________________\n",
            "bn4d_branch2b (BatchNormalizati (None, None, None, 2 1024        res4d_branch2b[0][0]             \n",
            "__________________________________________________________________________________________________\n",
            "res4d_branch2b_relu (Activation (None, None, None, 2 0           bn4d_branch2b[0][0]              \n",
            "__________________________________________________________________________________________________\n",
            "res4d_branch2c (Conv2D)         (None, None, None, 1 262144      res4d_branch2b_relu[0][0]        \n",
            "__________________________________________________________________________________________________\n",
            "bn4d_branch2c (BatchNormalizati (None, None, None, 1 4096        res4d_branch2c[0][0]             \n",
            "__________________________________________________________________________________________________\n",
            "res4d (Add)                     (None, None, None, 1 0           bn4d_branch2c[0][0]              \n",
            "                                                                 res4c_relu[0][0]                 \n",
            "__________________________________________________________________________________________________\n",
            "res4d_relu (Activation)         (None, None, None, 1 0           res4d[0][0]                      \n",
            "__________________________________________________________________________________________________\n",
            "res4e_branch2a (Conv2D)         (None, None, None, 2 262144      res4d_relu[0][0]                 \n",
            "__________________________________________________________________________________________________\n",
            "bn4e_branch2a (BatchNormalizati (None, None, None, 2 1024        res4e_branch2a[0][0]             \n",
            "__________________________________________________________________________________________________\n",
            "res4e_branch2a_relu (Activation (None, None, None, 2 0           bn4e_branch2a[0][0]              \n",
            "__________________________________________________________________________________________________\n",
            "padding4e_branch2b (ZeroPadding (None, None, None, 2 0           res4e_branch2a_relu[0][0]        \n",
            "__________________________________________________________________________________________________\n",
            "res4e_branch2b (Conv2D)         (None, None, None, 2 589824      padding4e_branch2b[0][0]         \n",
            "__________________________________________________________________________________________________\n",
            "bn4e_branch2b (BatchNormalizati (None, None, None, 2 1024        res4e_branch2b[0][0]             \n",
            "__________________________________________________________________________________________________\n",
            "res4e_branch2b_relu (Activation (None, None, None, 2 0           bn4e_branch2b[0][0]              \n",
            "__________________________________________________________________________________________________\n",
            "res4e_branch2c (Conv2D)         (None, None, None, 1 262144      res4e_branch2b_relu[0][0]        \n",
            "__________________________________________________________________________________________________\n",
            "bn4e_branch2c (BatchNormalizati (None, None, None, 1 4096        res4e_branch2c[0][0]             \n",
            "__________________________________________________________________________________________________\n",
            "res4e (Add)                     (None, None, None, 1 0           bn4e_branch2c[0][0]              \n",
            "                                                                 res4d_relu[0][0]                 \n",
            "__________________________________________________________________________________________________\n",
            "res4e_relu (Activation)         (None, None, None, 1 0           res4e[0][0]                      \n",
            "__________________________________________________________________________________________________\n",
            "res4f_branch2a (Conv2D)         (None, None, None, 2 262144      res4e_relu[0][0]                 \n",
            "__________________________________________________________________________________________________\n",
            "bn4f_branch2a (BatchNormalizati (None, None, None, 2 1024        res4f_branch2a[0][0]             \n",
            "__________________________________________________________________________________________________\n",
            "res4f_branch2a_relu (Activation (None, None, None, 2 0           bn4f_branch2a[0][0]              \n",
            "__________________________________________________________________________________________________\n",
            "padding4f_branch2b (ZeroPadding (None, None, None, 2 0           res4f_branch2a_relu[0][0]        \n",
            "__________________________________________________________________________________________________\n",
            "res4f_branch2b (Conv2D)         (None, None, None, 2 589824      padding4f_branch2b[0][0]         \n",
            "__________________________________________________________________________________________________\n",
            "bn4f_branch2b (BatchNormalizati (None, None, None, 2 1024        res4f_branch2b[0][0]             \n",
            "__________________________________________________________________________________________________\n",
            "res4f_branch2b_relu (Activation (None, None, None, 2 0           bn4f_branch2b[0][0]              \n",
            "__________________________________________________________________________________________________\n",
            "res4f_branch2c (Conv2D)         (None, None, None, 1 262144      res4f_branch2b_relu[0][0]        \n",
            "__________________________________________________________________________________________________\n",
            "bn4f_branch2c (BatchNormalizati (None, None, None, 1 4096        res4f_branch2c[0][0]             \n",
            "__________________________________________________________________________________________________\n",
            "res4f (Add)                     (None, None, None, 1 0           bn4f_branch2c[0][0]              \n",
            "                                                                 res4e_relu[0][0]                 \n",
            "__________________________________________________________________________________________________\n",
            "res4f_relu (Activation)         (None, None, None, 1 0           res4f[0][0]                      \n",
            "__________________________________________________________________________________________________\n",
            "res5a_branch2a (Conv2D)         (None, None, None, 5 524288      res4f_relu[0][0]                 \n",
            "__________________________________________________________________________________________________\n",
            "bn5a_branch2a (BatchNormalizati (None, None, None, 5 2048        res5a_branch2a[0][0]             \n",
            "__________________________________________________________________________________________________\n",
            "res5a_branch2a_relu (Activation (None, None, None, 5 0           bn5a_branch2a[0][0]              \n",
            "__________________________________________________________________________________________________\n",
            "padding5a_branch2b (ZeroPadding (None, None, None, 5 0           res5a_branch2a_relu[0][0]        \n",
            "__________________________________________________________________________________________________\n",
            "res5a_branch2b (Conv2D)         (None, None, None, 5 2359296     padding5a_branch2b[0][0]         \n",
            "__________________________________________________________________________________________________\n",
            "bn5a_branch2b (BatchNormalizati (None, None, None, 5 2048        res5a_branch2b[0][0]             \n",
            "__________________________________________________________________________________________________\n",
            "res5a_branch2b_relu (Activation (None, None, None, 5 0           bn5a_branch2b[0][0]              \n",
            "__________________________________________________________________________________________________\n",
            "res5a_branch2c (Conv2D)         (None, None, None, 2 1048576     res5a_branch2b_relu[0][0]        \n",
            "__________________________________________________________________________________________________\n",
            "res5a_branch1 (Conv2D)          (None, None, None, 2 2097152     res4f_relu[0][0]                 \n",
            "__________________________________________________________________________________________________\n",
            "bn5a_branch2c (BatchNormalizati (None, None, None, 2 8192        res5a_branch2c[0][0]             \n",
            "__________________________________________________________________________________________________\n",
            "bn5a_branch1 (BatchNormalizatio (None, None, None, 2 8192        res5a_branch1[0][0]              \n",
            "__________________________________________________________________________________________________\n",
            "res5a (Add)                     (None, None, None, 2 0           bn5a_branch2c[0][0]              \n",
            "                                                                 bn5a_branch1[0][0]               \n",
            "__________________________________________________________________________________________________\n",
            "res5a_relu (Activation)         (None, None, None, 2 0           res5a[0][0]                      \n",
            "__________________________________________________________________________________________________\n",
            "res5b_branch2a (Conv2D)         (None, None, None, 5 1048576     res5a_relu[0][0]                 \n",
            "__________________________________________________________________________________________________\n",
            "bn5b_branch2a (BatchNormalizati (None, None, None, 5 2048        res5b_branch2a[0][0]             \n",
            "__________________________________________________________________________________________________\n",
            "res5b_branch2a_relu (Activation (None, None, None, 5 0           bn5b_branch2a[0][0]              \n",
            "__________________________________________________________________________________________________\n",
            "padding5b_branch2b (ZeroPadding (None, None, None, 5 0           res5b_branch2a_relu[0][0]        \n",
            "__________________________________________________________________________________________________\n",
            "res5b_branch2b (Conv2D)         (None, None, None, 5 2359296     padding5b_branch2b[0][0]         \n",
            "__________________________________________________________________________________________________\n",
            "bn5b_branch2b (BatchNormalizati (None, None, None, 5 2048        res5b_branch2b[0][0]             \n",
            "__________________________________________________________________________________________________\n",
            "res5b_branch2b_relu (Activation (None, None, None, 5 0           bn5b_branch2b[0][0]              \n",
            "__________________________________________________________________________________________________\n",
            "res5b_branch2c (Conv2D)         (None, None, None, 2 1048576     res5b_branch2b_relu[0][0]        \n",
            "__________________________________________________________________________________________________\n",
            "bn5b_branch2c (BatchNormalizati (None, None, None, 2 8192        res5b_branch2c[0][0]             \n",
            "__________________________________________________________________________________________________\n",
            "res5b (Add)                     (None, None, None, 2 0           bn5b_branch2c[0][0]              \n",
            "                                                                 res5a_relu[0][0]                 \n",
            "__________________________________________________________________________________________________\n",
            "res5b_relu (Activation)         (None, None, None, 2 0           res5b[0][0]                      \n",
            "__________________________________________________________________________________________________\n",
            "res5c_branch2a (Conv2D)         (None, None, None, 5 1048576     res5b_relu[0][0]                 \n",
            "__________________________________________________________________________________________________\n",
            "bn5c_branch2a (BatchNormalizati (None, None, None, 5 2048        res5c_branch2a[0][0]             \n",
            "__________________________________________________________________________________________________\n",
            "res5c_branch2a_relu (Activation (None, None, None, 5 0           bn5c_branch2a[0][0]              \n",
            "__________________________________________________________________________________________________\n",
            "padding5c_branch2b (ZeroPadding (None, None, None, 5 0           res5c_branch2a_relu[0][0]        \n",
            "__________________________________________________________________________________________________\n",
            "res5c_branch2b (Conv2D)         (None, None, None, 5 2359296     padding5c_branch2b[0][0]         \n",
            "__________________________________________________________________________________________________\n",
            "bn5c_branch2b (BatchNormalizati (None, None, None, 5 2048        res5c_branch2b[0][0]             \n",
            "__________________________________________________________________________________________________\n",
            "res5c_branch2b_relu (Activation (None, None, None, 5 0           bn5c_branch2b[0][0]              \n",
            "__________________________________________________________________________________________________\n",
            "res5c_branch2c (Conv2D)         (None, None, None, 2 1048576     res5c_branch2b_relu[0][0]        \n",
            "__________________________________________________________________________________________________\n",
            "bn5c_branch2c (BatchNormalizati (None, None, None, 2 8192        res5c_branch2c[0][0]             \n",
            "__________________________________________________________________________________________________\n",
            "res5c (Add)                     (None, None, None, 2 0           bn5c_branch2c[0][0]              \n",
            "                                                                 res5b_relu[0][0]                 \n",
            "__________________________________________________________________________________________________\n",
            "res5c_relu (Activation)         (None, None, None, 2 0           res5c[0][0]                      \n",
            "__________________________________________________________________________________________________\n",
            "C5_reduced (Conv2D)             (None, None, None, 2 524544      res5c_relu[0][0]                 \n",
            "__________________________________________________________________________________________________\n",
            "P5_upsampled (UpsampleLike)     (None, None, None, 2 0           C5_reduced[0][0]                 \n",
            "                                                                 res4f_relu[0][0]                 \n",
            "__________________________________________________________________________________________________\n",
            "C4_reduced (Conv2D)             (None, None, None, 2 262400      res4f_relu[0][0]                 \n",
            "__________________________________________________________________________________________________\n",
            "P4_merged (Add)                 (None, None, None, 2 0           P5_upsampled[0][0]               \n",
            "                                                                 C4_reduced[0][0]                 \n",
            "__________________________________________________________________________________________________\n",
            "P4_upsampled (UpsampleLike)     (None, None, None, 2 0           P4_merged[0][0]                  \n",
            "                                                                 res3d_relu[0][0]                 \n",
            "__________________________________________________________________________________________________\n",
            "C3_reduced (Conv2D)             (None, None, None, 2 131328      res3d_relu[0][0]                 \n",
            "__________________________________________________________________________________________________\n",
            "P6 (Conv2D)                     (None, None, None, 2 4718848     res5c_relu[0][0]                 \n",
            "__________________________________________________________________________________________________\n",
            "P3_merged (Add)                 (None, None, None, 2 0           P4_upsampled[0][0]               \n",
            "                                                                 C3_reduced[0][0]                 \n",
            "__________________________________________________________________________________________________\n",
            "C6_relu (Activation)            (None, None, None, 2 0           P6[0][0]                         \n",
            "__________________________________________________________________________________________________\n",
            "P3 (Conv2D)                     (None, None, None, 2 590080      P3_merged[0][0]                  \n",
            "__________________________________________________________________________________________________\n",
            "P4 (Conv2D)                     (None, None, None, 2 590080      P4_merged[0][0]                  \n",
            "__________________________________________________________________________________________________\n",
            "P5 (Conv2D)                     (None, None, None, 2 590080      C5_reduced[0][0]                 \n",
            "__________________________________________________________________________________________________\n",
            "P7 (Conv2D)                     (None, None, None, 2 590080      C6_relu[0][0]                    \n",
            "__________________________________________________________________________________________________\n",
            "regression_submodel (Model)     (None, None, 4)      2443300     P3[0][0]                         \n",
            "                                                                 P4[0][0]                         \n",
            "                                                                 P5[0][0]                         \n",
            "                                                                 P6[0][0]                         \n",
            "                                                                 P7[0][0]                         \n",
            "__________________________________________________________________________________________________\n",
            "classification_submodel (Model) (None, None, 1)      2381065     P3[0][0]                         \n",
            "                                                                 P4[0][0]                         \n",
            "                                                                 P5[0][0]                         \n",
            "                                                                 P6[0][0]                         \n",
            "                                                                 P7[0][0]                         \n",
            "__________________________________________________________________________________________________\n",
            "regression (Concatenate)        (None, None, 4)      0           regression_submodel[1][0]        \n",
            "                                                                 regression_submodel[2][0]        \n",
            "                                                                 regression_submodel[3][0]        \n",
            "                                                                 regression_submodel[4][0]        \n",
            "                                                                 regression_submodel[5][0]        \n",
            "__________________________________________________________________________________________________\n",
            "classification (Concatenate)    (None, None, 1)      0           classification_submodel[1][0]    \n",
            "                                                                 classification_submodel[2][0]    \n",
            "                                                                 classification_submodel[3][0]    \n",
            "                                                                 classification_submodel[4][0]    \n",
            "                                                                 classification_submodel[5][0]    \n",
            "==================================================================================================\n",
            "Total params: 36,382,957\n",
            "Trainable params: 36,276,717\n",
            "Non-trainable params: 106,240\n",
            "__________________________________________________________________________________________________\n",
            "None\n",
            "WARNING:tensorflow:From /tensorflow-1.15.2/python3.6/keras/backend/tensorflow_backend.py:422: The name tf.global_variables is deprecated. Please use tf.compat.v1.global_variables instead.\n",
            "\n",
            "WARNING:tensorflow:From /tensorflow-1.15.2/python3.6/keras/callbacks/tensorboard_v1.py:200: The name tf.summary.merge_all is deprecated. Please use tf.compat.v1.summary.merge_all instead.\n",
            "\n",
            "WARNING:tensorflow:From /tensorflow-1.15.2/python3.6/keras/callbacks/tensorboard_v1.py:203: The name tf.summary.FileWriter is deprecated. Please use tf.compat.v1.summary.FileWriter instead.\n",
            "\n",
            "Epoch 1/20\n",
            "2020-10-21 11:47:40.925396: I tensorflow/stream_executor/platform/default/dso_loader.cc:44] Successfully opened dynamic library libcudnn.so.7\n",
            "2020-10-21 11:47:46.242999: I tensorflow/stream_executor/platform/default/dso_loader.cc:44] Successfully opened dynamic library libcublas.so.10\n",
            "200/200 [==============================] - 101s 507ms/step - loss: 3.4635 - regression_loss: 2.5813 - classification_loss: 0.8822\n",
            "WARNING:tensorflow:From /tensorflow-1.15.2/python3.6/keras/callbacks/tensorboard_v1.py:343: The name tf.Summary is deprecated. Please use tf.compat.v1.Summary instead.\n",
            "\n",
            "Running network: 100% (40 of 40) |########| Elapsed Time: 0:00:07 Time:  0:00:07\n",
            "Parsing annotations: 100% (40 of 40) |####| Elapsed Time: 0:00:00 Time:  0:00:00\n",
            "40 instances of class raccoon with average precision: 0.6071\n",
            "mAP: 0.6071\n",
            "\n",
            "Epoch 00001: saving model to ./snapshots/resnet50_csv_01.h5\n",
            "Epoch 2/20\n",
            "200/200 [==============================] - 29s 146ms/step - loss: 2.3395 - regression_loss: 2.0372 - classification_loss: 0.3023\n",
            "Running network: 100% (40 of 40) |########| Elapsed Time: 0:00:02 Time:  0:00:02\n",
            "Parsing annotations: 100% (40 of 40) |####| Elapsed Time: 0:00:00 Time:  0:00:00\n",
            "40 instances of class raccoon with average precision: 0.8314\n",
            "mAP: 0.8314\n",
            "\n",
            "Epoch 00002: saving model to ./snapshots/resnet50_csv_02.h5\n",
            "Epoch 3/20\n",
            "200/200 [==============================] - 29s 146ms/step - loss: 1.9962 - regression_loss: 1.7386 - classification_loss: 0.2576\n",
            "Running network: 100% (40 of 40) |########| Elapsed Time: 0:00:02 Time:  0:00:02\n",
            "Parsing annotations: 100% (40 of 40) |####| Elapsed Time: 0:00:00 Time:  0:00:00\n",
            "40 instances of class raccoon with average precision: 0.8191\n",
            "mAP: 0.8191\n",
            "\n",
            "Epoch 00003: saving model to ./snapshots/resnet50_csv_03.h5\n",
            "Epoch 4/20\n",
            "200/200 [==============================] - 29s 144ms/step - loss: 1.8471 - regression_loss: 1.6073 - classification_loss: 0.2398\n",
            "Running network: 100% (40 of 40) |########| Elapsed Time: 0:00:02 Time:  0:00:02\n",
            "Parsing annotations: 100% (40 of 40) |####| Elapsed Time: 0:00:00 Time:  0:00:00\n",
            "40 instances of class raccoon with average precision: 0.9011\n",
            "mAP: 0.9011\n",
            "\n",
            "Epoch 00004: saving model to ./snapshots/resnet50_csv_04.h5\n",
            "Epoch 5/20\n",
            "200/200 [==============================] - 29s 145ms/step - loss: 1.7260 - regression_loss: 1.5036 - classification_loss: 0.2223\n",
            "Running network: 100% (40 of 40) |########| Elapsed Time: 0:00:02 Time:  0:00:02\n",
            "Parsing annotations: 100% (40 of 40) |####| Elapsed Time: 0:00:00 Time:  0:00:00\n",
            "40 instances of class raccoon with average precision: 0.9152\n",
            "mAP: 0.9152\n",
            "\n",
            "Epoch 00005: saving model to ./snapshots/resnet50_csv_05.h5\n",
            "Epoch 6/20\n",
            "200/200 [==============================] - 29s 145ms/step - loss: 1.5744 - regression_loss: 1.3762 - classification_loss: 0.1982\n",
            "Running network: 100% (40 of 40) |########| Elapsed Time: 0:00:02 Time:  0:00:02\n",
            "Parsing annotations: 100% (40 of 40) |####| Elapsed Time: 0:00:00 Time:  0:00:00\n",
            "40 instances of class raccoon with average precision: 0.9623\n",
            "mAP: 0.9623\n",
            "\n",
            "Epoch 00006: saving model to ./snapshots/resnet50_csv_06.h5\n",
            "Epoch 7/20\n",
            "200/200 [==============================] - 30s 149ms/step - loss: 1.4671 - regression_loss: 1.2814 - classification_loss: 0.1857\n",
            "Running network: 100% (40 of 40) |########| Elapsed Time: 0:00:02 Time:  0:00:02\n",
            "Parsing annotations: 100% (40 of 40) |####| Elapsed Time: 0:00:00 Time:  0:00:00\n",
            "40 instances of class raccoon with average precision: 0.9678\n",
            "mAP: 0.9678\n",
            "\n",
            "Epoch 00007: saving model to ./snapshots/resnet50_csv_07.h5\n",
            "Epoch 8/20\n",
            "200/200 [==============================] - 29s 144ms/step - loss: 1.3843 - regression_loss: 1.2137 - classification_loss: 0.1705\n",
            "Running network: 100% (40 of 40) |########| Elapsed Time: 0:00:02 Time:  0:00:02\n",
            "Parsing annotations: 100% (40 of 40) |####| Elapsed Time: 0:00:00 Time:  0:00:00\n",
            "40 instances of class raccoon with average precision: 0.9638\n",
            "mAP: 0.9638\n",
            "\n",
            "Epoch 00008: saving model to ./snapshots/resnet50_csv_08.h5\n",
            "Epoch 9/20\n",
            "200/200 [==============================] - 29s 146ms/step - loss: 1.2752 - regression_loss: 1.1173 - classification_loss: 0.1579\n",
            "Running network: 100% (40 of 40) |########| Elapsed Time: 0:00:02 Time:  0:00:02\n",
            "Parsing annotations: 100% (40 of 40) |####| Elapsed Time: 0:00:00 Time:  0:00:00\n",
            "40 instances of class raccoon with average precision: 0.9605\n",
            "mAP: 0.9605\n",
            "\n",
            "Epoch 00009: saving model to ./snapshots/resnet50_csv_09.h5\n",
            "Epoch 10/20\n",
            "200/200 [==============================] - 29s 143ms/step - loss: 1.1945 - regression_loss: 1.0437 - classification_loss: 0.1508\n",
            "Running network: 100% (40 of 40) |########| Elapsed Time: 0:00:02 Time:  0:00:02\n",
            "Parsing annotations: 100% (40 of 40) |####| Elapsed Time: 0:00:00 Time:  0:00:00\n",
            "40 instances of class raccoon with average precision: 0.9751\n",
            "mAP: 0.9751\n",
            "\n",
            "Epoch 00010: saving model to ./snapshots/resnet50_csv_10.h5\n",
            "Epoch 11/20\n",
            "200/200 [==============================] - 29s 144ms/step - loss: 1.1074 - regression_loss: 0.9720 - classification_loss: 0.1354\n",
            "Running network: 100% (40 of 40) |########| Elapsed Time: 0:00:02 Time:  0:00:02\n",
            "Parsing annotations: 100% (40 of 40) |####| Elapsed Time: 0:00:00 Time:  0:00:00\n",
            "40 instances of class raccoon with average precision: 0.9851\n",
            "mAP: 0.9851\n",
            "\n",
            "Epoch 00011: saving model to ./snapshots/resnet50_csv_11.h5\n",
            "Epoch 12/20\n",
            "200/200 [==============================] - 29s 144ms/step - loss: 1.0802 - regression_loss: 0.9521 - classification_loss: 0.1281\n",
            "Running network: 100% (40 of 40) |########| Elapsed Time: 0:00:02 Time:  0:00:02\n",
            "Parsing annotations: 100% (40 of 40) |####| Elapsed Time: 0:00:00 Time:  0:00:00\n",
            "40 instances of class raccoon with average precision: 0.9716\n",
            "mAP: 0.9716\n",
            "\n",
            "Epoch 00012: saving model to ./snapshots/resnet50_csv_12.h5\n",
            "Epoch 13/20\n",
            "200/200 [==============================] - 29s 146ms/step - loss: 0.9618 - regression_loss: 0.8492 - classification_loss: 0.1127\n",
            "Running network: 100% (40 of 40) |########| Elapsed Time: 0:00:02 Time:  0:00:02\n",
            "Parsing annotations: 100% (40 of 40) |####| Elapsed Time: 0:00:00 Time:  0:00:00\n",
            "40 instances of class raccoon with average precision: 0.9872\n",
            "mAP: 0.9872\n",
            "\n",
            "Epoch 00013: saving model to ./snapshots/resnet50_csv_13.h5\n",
            "Epoch 14/20\n",
            "200/200 [==============================] - 29s 146ms/step - loss: 0.9046 - regression_loss: 0.7982 - classification_loss: 0.1064\n",
            "Running network: 100% (40 of 40) |########| Elapsed Time: 0:00:02 Time:  0:00:02\n",
            "Parsing annotations: 100% (40 of 40) |####| Elapsed Time: 0:00:00 Time:  0:00:00\n",
            "40 instances of class raccoon with average precision: 0.9875\n",
            "mAP: 0.9875\n",
            "\n",
            "Epoch 00014: saving model to ./snapshots/resnet50_csv_14.h5\n",
            "Epoch 15/20\n",
            "200/200 [==============================] - 29s 145ms/step - loss: 0.8339 - regression_loss: 0.7362 - classification_loss: 0.0977\n",
            "Running network: 100% (40 of 40) |########| Elapsed Time: 0:00:02 Time:  0:00:02\n",
            "Parsing annotations: 100% (40 of 40) |####| Elapsed Time: 0:00:00 Time:  0:00:00\n",
            "40 instances of class raccoon with average precision: 0.9913\n",
            "mAP: 0.9913\n",
            "\n",
            "Epoch 00015: saving model to ./snapshots/resnet50_csv_15.h5\n",
            "Epoch 16/20\n",
            "200/200 [==============================] - 29s 145ms/step - loss: 0.7878 - regression_loss: 0.6984 - classification_loss: 0.0894\n",
            "Running network: 100% (40 of 40) |########| Elapsed Time: 0:00:02 Time:  0:00:02\n",
            "Parsing annotations: 100% (40 of 40) |####| Elapsed Time: 0:00:00 Time:  0:00:00\n",
            "40 instances of class raccoon with average precision: 0.9753\n",
            "mAP: 0.9753\n",
            "\n",
            "Epoch 00016: saving model to ./snapshots/resnet50_csv_16.h5\n",
            "Epoch 17/20\n",
            "200/200 [==============================] - 29s 147ms/step - loss: 0.7774 - regression_loss: 0.6900 - classification_loss: 0.0875\n",
            "Running network: 100% (40 of 40) |########| Elapsed Time: 0:00:02 Time:  0:00:02\n",
            "Parsing annotations: 100% (40 of 40) |####| Elapsed Time: 0:00:00 Time:  0:00:00\n",
            "40 instances of class raccoon with average precision: 0.9899\n",
            "mAP: 0.9899\n",
            "\n",
            "Epoch 00017: saving model to ./snapshots/resnet50_csv_17.h5\n",
            "Epoch 18/20\n",
            "200/200 [==============================] - 29s 146ms/step - loss: 0.7056 - regression_loss: 0.6276 - classification_loss: 0.0780\n",
            "Running network: 100% (40 of 40) |########| Elapsed Time: 0:00:02 Time:  0:00:02\n",
            "Parsing annotations: 100% (40 of 40) |####| Elapsed Time: 0:00:00 Time:  0:00:00\n",
            "40 instances of class raccoon with average precision: 0.9885\n",
            "mAP: 0.9885\n",
            "\n",
            "Epoch 00018: saving model to ./snapshots/resnet50_csv_18.h5\n",
            "Epoch 19/20\n",
            "200/200 [==============================] - 29s 145ms/step - loss: 0.7029 - regression_loss: 0.6251 - classification_loss: 0.0778\n",
            "Running network: 100% (40 of 40) |########| Elapsed Time: 0:00:02 Time:  0:00:02\n",
            "Parsing annotations: 100% (40 of 40) |####| Elapsed Time: 0:00:00 Time:  0:00:00\n",
            "40 instances of class raccoon with average precision: 0.9953\n",
            "mAP: 0.9953\n",
            "\n",
            "Epoch 00019: saving model to ./snapshots/resnet50_csv_19.h5\n",
            "Epoch 20/20\n",
            "200/200 [==============================] - 29s 145ms/step - loss: 0.6815 - regression_loss: 0.6068 - classification_loss: 0.0747\n",
            "Running network: 100% (40 of 40) |########| Elapsed Time: 0:00:02 Time:  0:00:02\n",
            "Parsing annotations: 100% (40 of 40) |####| Elapsed Time: 0:00:00 Time:  0:00:00\n",
            "40 instances of class raccoon with average precision: 0.9874\n",
            "mAP: 0.9874\n",
            "\n",
            "Epoch 00020: saving model to ./snapshots/resnet50_csv_20.h5\n"
          ],
          "name": "stdout"
        }
      ]
    },
    {
      "cell_type": "markdown",
      "metadata": {
        "id": "MZChlb_l6K8N"
      },
      "source": [
        "#### train.py의 여러 모듈을 직접 import하여 학습 수행. \n",
        "* train.py의 여러 모듈을 직접 import하여 customization으로 학습을 수행하는 것이 더 직관적이고 빠른 학습 시간 보장.\n",
        "* keras-retinanet으로 학습 시 어떻게 내부 모듈이 동작하는지 더 명확히 알 수 있음. \n",
        "* 환경 파라미터를 훨씬 편하게 조정 가능"
      ]
    },
    {
      "cell_type": "code",
      "metadata": {
        "id": "vmIvg5dH6K8O",
        "colab": {
          "base_uri": "https://localhost:8080/",
          "height": 35
        },
        "outputId": "0ef073f6-473c-4514-acf3-16bd112a9f31"
      },
      "source": [
        "import cv2\n",
        "from os import listdir, walk\n",
        "import math\n",
        "import tensorflow as tf\n",
        "from os.path import join\n",
        "from keras_retinanet.bin.train import create_generators,create_models,create_callbacks\n",
        "from keras_retinanet.models import backbone,load_model,convert_model\n",
        "from keras_retinanet.utils.config import read_config_file,parse_anchor_parameters\n",
        "from keras_retinanet.utils.visualization import draw_boxes\n",
        "\n",
        "#from imgaug import augmenters as iaa\n",
        "\n",
        "tf.set_random_seed(31) # SEEDS MAKE RESULTS MORE REPRODUCABLE\n",
        "np.random.seed(17)"
      ],
      "execution_count": null,
      "outputs": [
        {
          "output_type": "stream",
          "text": [
            "Using TensorFlow backend.\n"
          ],
          "name": "stderr"
        }
      ]
    },
    {
      "cell_type": "markdown",
      "metadata": {
        "id": "fcOU478y6K8V"
      },
      "source": [
        "#### 환경 파라미터 설정. "
      ]
    },
    {
      "cell_type": "code",
      "metadata": {
        "id": "xWEJV9Ut6K8X",
        "colab": {
          "base_uri": "https://localhost:8080/",
          "height": 531
        },
        "outputId": "1aab7507-1d96-4f09-d852-59cf500c5d50"
      },
      "source": [
        "b = backbone('resnet50')\n",
        "files = os.listdir(ANNO_DIR)\n",
        "train_file_cnt = train_indexes.shape[0]\n",
        "\n",
        "class args:\n",
        "    batch_size = 4\n",
        "    config = None\n",
        "    random_transform = True # Image augmentation\n",
        "    annotations = os.path.join(ANNO_DIR, 'raccoon_anno_retina_train.csv')\n",
        "    val_annotations = os.path.join(ANNO_DIR, 'raccoon_anno_retina_valid.csv')\n",
        "    classes = os.path.join(ANNO_DIR, 'raccoon_class.txt')\n",
        "    image_min_side = 800\n",
        "    image_max_side = 1333\n",
        "    no_resize=None\n",
        "    dataset_type = 'csv'\n",
        "    tensorboard_dir = ''\n",
        "    evaluation = True\n",
        "    snapshots = True\n",
        "    snapshot_path = './keras-retinanet/snapshots'\n",
        "    backbone = 'resnet50'\n",
        "    epochs = 20\n",
        "    steps = train_file_cnt//(batch_size)\n",
        "    weighted_average = True"
      ],
      "execution_count": null,
      "outputs": [
        {
          "output_type": "error",
          "ename": "ModuleNotFoundError",
          "evalue": "ignored",
          "traceback": [
            "\u001b[0;31m---------------------------------------------------------------------------\u001b[0m",
            "\u001b[0;31mModuleNotFoundError\u001b[0m                       Traceback (most recent call last)",
            "\u001b[0;32m<ipython-input-22-633ee9e5ad29>\u001b[0m in \u001b[0;36m<module>\u001b[0;34m()\u001b[0m\n\u001b[0;32m----> 1\u001b[0;31m \u001b[0mb\u001b[0m \u001b[0;34m=\u001b[0m \u001b[0mbackbone\u001b[0m\u001b[0;34m(\u001b[0m\u001b[0;34m'resnet50'\u001b[0m\u001b[0;34m)\u001b[0m\u001b[0;34m\u001b[0m\u001b[0;34m\u001b[0m\u001b[0m\n\u001b[0m\u001b[1;32m      2\u001b[0m \u001b[0mfiles\u001b[0m \u001b[0;34m=\u001b[0m \u001b[0mos\u001b[0m\u001b[0;34m.\u001b[0m\u001b[0mlistdir\u001b[0m\u001b[0;34m(\u001b[0m\u001b[0mANNO_DIR\u001b[0m\u001b[0;34m)\u001b[0m\u001b[0;34m\u001b[0m\u001b[0;34m\u001b[0m\u001b[0m\n\u001b[1;32m      3\u001b[0m \u001b[0mtrain_file_cnt\u001b[0m \u001b[0;34m=\u001b[0m \u001b[0mtrain_indexes\u001b[0m\u001b[0;34m.\u001b[0m\u001b[0mshape\u001b[0m\u001b[0;34m[\u001b[0m\u001b[0;36m0\u001b[0m\u001b[0;34m]\u001b[0m\u001b[0;34m\u001b[0m\u001b[0;34m\u001b[0m\u001b[0m\n\u001b[1;32m      4\u001b[0m \u001b[0;34m\u001b[0m\u001b[0m\n\u001b[1;32m      5\u001b[0m \u001b[0;32mclass\u001b[0m \u001b[0margs\u001b[0m\u001b[0;34m:\u001b[0m\u001b[0;34m\u001b[0m\u001b[0;34m\u001b[0m\u001b[0m\n",
            "\u001b[0;32m/content/keras-retinanet/keras_retinanet/models/__init__.py\u001b[0m in \u001b[0;36mbackbone\u001b[0;34m(backbone_name)\u001b[0m\n\u001b[1;32m     51\u001b[0m     \"\"\"\n\u001b[1;32m     52\u001b[0m     \u001b[0;32mif\u001b[0m \u001b[0;34m'resnet'\u001b[0m \u001b[0;32min\u001b[0m \u001b[0mbackbone_name\u001b[0m\u001b[0;34m:\u001b[0m\u001b[0;34m\u001b[0m\u001b[0;34m\u001b[0m\u001b[0m\n\u001b[0;32m---> 53\u001b[0;31m         \u001b[0;32mfrom\u001b[0m \u001b[0;34m.\u001b[0m\u001b[0mresnet\u001b[0m \u001b[0;32mimport\u001b[0m \u001b[0mResNetBackbone\u001b[0m \u001b[0;32mas\u001b[0m \u001b[0mb\u001b[0m\u001b[0;34m\u001b[0m\u001b[0;34m\u001b[0m\u001b[0m\n\u001b[0m\u001b[1;32m     54\u001b[0m     \u001b[0;32melif\u001b[0m \u001b[0;34m'mobilenet'\u001b[0m \u001b[0;32min\u001b[0m \u001b[0mbackbone_name\u001b[0m\u001b[0;34m:\u001b[0m\u001b[0;34m\u001b[0m\u001b[0;34m\u001b[0m\u001b[0m\n\u001b[1;32m     55\u001b[0m         \u001b[0;32mfrom\u001b[0m \u001b[0;34m.\u001b[0m\u001b[0mmobilenet\u001b[0m \u001b[0;32mimport\u001b[0m \u001b[0mMobileNetBackbone\u001b[0m \u001b[0;32mas\u001b[0m \u001b[0mb\u001b[0m\u001b[0;34m\u001b[0m\u001b[0;34m\u001b[0m\u001b[0m\n",
            "\u001b[0;32m/content/keras-retinanet/keras_retinanet/models/resnet.py\u001b[0m in \u001b[0;36m<module>\u001b[0;34m()\u001b[0m\n\u001b[1;32m     17\u001b[0m \u001b[0;32mimport\u001b[0m \u001b[0mkeras\u001b[0m\u001b[0;34m\u001b[0m\u001b[0;34m\u001b[0m\u001b[0m\n\u001b[1;32m     18\u001b[0m \u001b[0;32mfrom\u001b[0m \u001b[0mkeras\u001b[0m\u001b[0;34m.\u001b[0m\u001b[0mutils\u001b[0m \u001b[0;32mimport\u001b[0m \u001b[0mget_file\u001b[0m\u001b[0;34m\u001b[0m\u001b[0;34m\u001b[0m\u001b[0m\n\u001b[0;32m---> 19\u001b[0;31m \u001b[0;32mimport\u001b[0m \u001b[0mkeras_resnet\u001b[0m\u001b[0;34m\u001b[0m\u001b[0;34m\u001b[0m\u001b[0m\n\u001b[0m\u001b[1;32m     20\u001b[0m \u001b[0;32mimport\u001b[0m \u001b[0mkeras_resnet\u001b[0m\u001b[0;34m.\u001b[0m\u001b[0mmodels\u001b[0m\u001b[0;34m\u001b[0m\u001b[0;34m\u001b[0m\u001b[0m\n\u001b[1;32m     21\u001b[0m \u001b[0;34m\u001b[0m\u001b[0m\n",
            "\u001b[0;31mModuleNotFoundError\u001b[0m: No module named 'keras_resnet'",
            "",
            "\u001b[0;31m---------------------------------------------------------------------------\u001b[0;32m\nNOTE: If your import is failing due to a missing package, you can\nmanually install dependencies using either !pip or !apt.\n\nTo view examples of installing some common dependencies, click the\n\"Open Examples\" button below.\n\u001b[0;31m---------------------------------------------------------------------------\u001b[0m\n"
          ]
        }
      ]
    },
    {
      "cell_type": "markdown",
      "metadata": {
        "id": "zaw_QFzv6K8e"
      },
      "source": [
        "#### 학습과 검증을 위한 generator 생성."
      ]
    },
    {
      "cell_type": "code",
      "metadata": {
        "id": "xrxj3YZD6K8g"
      },
      "source": [
        "train_gen,valid_gen = create_generators(args,b.preprocess_image)"
      ],
      "execution_count": null,
      "outputs": []
    },
    {
      "cell_type": "markdown",
      "metadata": {
        "id": "PybkhbFT6K8n"
      },
      "source": [
        "#### backend CNN과 기타 환경 설정하여 기본 모델 생성"
      ]
    },
    {
      "cell_type": "code",
      "metadata": {
        "id": "XYcNcQ3J6K8p"
      },
      "source": [
        "model, training_model, prediction_model = create_models(\n",
        "            backbone_retinanet=b.retinanet,\n",
        "            num_classes=train_gen.num_classes(),\n",
        "            weights=None,\n",
        "            multi_gpu=False,\n",
        "            freeze_backbone=True,\n",
        "            lr=1e-3,\n",
        "            config=args.config\n",
        "        )"
      ],
      "execution_count": null,
      "outputs": []
    },
    {
      "cell_type": "markdown",
      "metadata": {
        "id": "5t7PYEkK6K8w"
      },
      "source": [
        "#### Checkpoint, ReduceLROnPlateur와 같은 callback 기능 생성. "
      ]
    },
    {
      "cell_type": "code",
      "metadata": {
        "id": "NJ5YQuFT6K8y"
      },
      "source": [
        "callbacks = create_callbacks(\n",
        "    model,\n",
        "    training_model,\n",
        "    prediction_model,\n",
        "    valid_gen,\n",
        "    args,\n",
        ")"
      ],
      "execution_count": null,
      "outputs": []
    },
    {
      "cell_type": "markdown",
      "metadata": {
        "id": "gywbyBOt6K86"
      },
      "source": [
        "#### 학습 모델에 coco로 pretrained된 weight를 최초 weight로 설정"
      ]
    },
    {
      "cell_type": "code",
      "metadata": {
        "id": "LjzEQDeW6K88"
      },
      "source": [
        "training_model.load_weights('./keras-retinanet/snapshots/resnet50_coco_best_v2.1.0.h5',skip_mismatch=True,by_name=True)"
      ],
      "execution_count": null,
      "outputs": []
    },
    {
      "cell_type": "code",
      "metadata": {
        "id": "liKBnuOa6K9D"
      },
      "source": [
        "training_model.fit_generator(generator=train_gen,\n",
        "        steps_per_epoch=args.steps,\n",
        "        epochs=args.epochs,\n",
        "        verbose=1,\n",
        "        validation_data=valid_gen,                     \n",
        "        callbacks=callbacks)"
      ],
      "execution_count": null,
      "outputs": []
    },
    {
      "cell_type": "markdown",
      "metadata": {
        "id": "3fVpD2O66K9L"
      },
      "source": [
        "### 학습 모델 기반 Object Detection 및 Detection 성능 평가(Evaluation)"
      ]
    },
    {
      "cell_type": "markdown",
      "metadata": {
        "id": "mfuUx2uT6K9M"
      },
      "source": [
        "#### 학습 모델을 Inference 모델로 변환\n",
        "*  keras_retinanet/bin/convert_model.py를 이용하여 snapshots 디렉토리에 가장 마지막에 만들어진 학습 모델(가장 손실율이 적은)을 infererence용 모델로 변환"
      ]
    },
    {
      "cell_type": "code",
      "metadata": {
        "id": "stB2bCW-6K9N"
      },
      "source": [
        "import sys\n",
        "import os\n",
        "ROOT_DIR = os.path.abspath(\".\")\n",
        "sys.path.append(ROOT_DIR)\n",
        "\n",
        "#!./keras-retinanet/keras_retinanet/bin/convert_model.py ~/DLCV/Detection/retina/keras-retinanet/snapshots/resnet50_csv_20.h5 \\\n",
        "#~/DLCV/Detection/retina/keras-retinanet/snapshots/raccoon_inference.h5\n"
      ],
      "execution_count": null,
      "outputs": []
    },
    {
      "cell_type": "markdown",
      "metadata": {
        "id": "EF5RD_uK6K9U"
      },
      "source": [
        "#### 변환된 inference용 모델인 raccoon_inference.h5 파일을 로드하여 이미지 Detection 수행"
      ]
    },
    {
      "cell_type": "code",
      "metadata": {
        "id": "GdnF3Gns6K9W"
      },
      "source": [
        "# show images inline\n",
        "%matplotlib inline\n",
        "\n",
        "# automatically reload modules when they have changed\n",
        "%load_ext autoreload\n",
        "%autoreload 2\n",
        "\n",
        "# import keras\n",
        "import keras\n",
        "\n",
        "# import miscellaneous modules\n",
        "import matplotlib.pyplot as plt\n",
        "import cv2\n",
        "import os\n",
        "import numpy as np\n",
        "import time\n",
        "\n",
        "\n",
        "from keras_retinanet import models\n",
        "from keras_retinanet.utils.image import read_image_bgr, preprocess_image, resize_image\n",
        "from keras_retinanet.utils.visualization import draw_box, draw_caption\n",
        "from keras_retinanet.utils.colors import label_color\n",
        "from keras_retinanet.utils.gpu import setup_gpu\n",
        "\n",
        "# use this to change which GPU to use\n",
        "gpu = 0\n",
        "\n",
        "# set the modified tf session as backend in keras\n",
        "setup_gpu(gpu)"
      ],
      "execution_count": null,
      "outputs": []
    },
    {
      "cell_type": "code",
      "metadata": {
        "id": "_kxjWjam6K9d"
      },
      "source": [
        "import os\n",
        "import sys\n",
        "\n",
        "ROOT_DIR = os.path.abspath(\".\")\n",
        "sys.path.append(ROOT_DIR)\n",
        "\n",
        "model_path = os.path.join(ROOT_DIR, 'keras-retinanet/snapshots/raccoon_inference.h5')\n",
        "\n",
        "print(model_path)\n",
        "# load retinanet model\n",
        "raccoon_retina_model = models.load_model(model_path, backbone_name='resnet50')"
      ],
      "execution_count": null,
      "outputs": []
    },
    {
      "cell_type": "markdown",
      "metadata": {
        "id": "XsgAwoh96K9k"
      },
      "source": [
        "#### 이미지 detect를 위한 함수 생성. \n",
        "* inference를 수행하기 전에 이미지 scaling 및 크기를 재 조정할 수 있도록 preprocess_image()와 resize_image() 제공. \n",
        "* keras-retinanet은 이미지에 bounding box를 편리하게 그릴 수 있는 API제공. draw_box(), draw_caption(), label_color() 제공"
      ]
    },
    {
      "cell_type": "code",
      "metadata": {
        "id": "gHjJE7pL6K9l"
      },
      "source": [
        "import cv2\n",
        "from keras_retinanet.utils.image import read_image_bgr, preprocess_image, resize_image\n",
        "from keras_retinanet.utils.visualization import draw_box, draw_caption\n",
        "from keras_retinanet.utils.colors import label_color\n",
        "\n",
        "labels_to_names_seq = {0:'Raccoon'}\n",
        "\n",
        "def get_detected_image_retina(model, img_array, use_copied_array, is_print=True):\n",
        "    \n",
        "    # copy to draw on\n",
        "    draw_img = None\n",
        "    if use_copied_array:\n",
        "        draw_img = img_array.copy()\n",
        "    else:\n",
        "        draw_img = img_array\n",
        "    \n",
        "    img_array = preprocess_image(img_array)\n",
        "    img_array, scale = resize_image(img_array)\n",
        "    \n",
        "    # process image\n",
        "    start = time.time()\n",
        "    boxes, scores, labels = model.predict_on_batch(np.expand_dims(img_array, axis=0))\n",
        "    if is_print:\n",
        "        print(\"object detection 처리 시간: \", round(time.time() - start,5))\n",
        "    \n",
        "    # correct for image scale\n",
        "    boxes /= scale\n",
        "\n",
        "    # visualize detections\n",
        "    for box, score, label in zip(boxes[0], scores[0], labels[0]):\n",
        "        # scores are sorted so we can break\n",
        "        if score < 0.5:\n",
        "            break\n",
        "\n",
        "        color = label_color(label)\n",
        "\n",
        "        b = box.astype(int)\n",
        "        draw_box(draw_img, b, color=color)\n",
        "\n",
        "        caption = \"{} {:.3f}\".format(labels_to_names_seq[label], score)\n",
        "        draw_caption(draw_img, b, caption)\n",
        "    \n",
        "    if is_print:\n",
        "        print(\"이미지 processing 시간: \", round(time.time() - start,5))\n",
        "    \n",
        "    return draw_img"
      ],
      "execution_count": null,
      "outputs": []
    },
    {
      "cell_type": "code",
      "metadata": {
        "id": "-G73LfHx6K9t"
      },
      "source": [
        "import os\n",
        "from pathlib import Path\n",
        "\n",
        "HOME_DIR = str(Path.home())\n",
        "\n",
        "ANNO_DIR = os.path.join(HOME_DIR, 'DLCV/data/raccoon/annotations')\n",
        "IMAGE_DIR = os.path.join(HOME_DIR, 'DLCV/data/raccoon/images')\n",
        "\n",
        "img_array  = cv2.imread(os.path.join(IMAGE_DIR, 'raccoon-22.jpg'))\n",
        "draw_img_array = img_array.copy()\n",
        "draw_img_array = cv2.cvtColor(draw_img_array, cv2.COLOR_BGR2RGB)\n",
        "\n",
        "plt.figure(figsize=(15, 15))\n",
        "plt.axis('off')\n",
        "plt.imshow(draw_img_array)\n",
        "plt.show()\n",
        "\n",
        "detected_image = get_detected_image_retina(raccoon_retina_model, img_array, use_copied_array=True, is_print=True)\n",
        "img_rgb = cv2.cvtColor(detected_image, cv2.COLOR_BGR2RGB)\n",
        "plt.figure(figsize=(15, 15))\n",
        "plt.axis('off')\n",
        "plt.imshow(img_rgb)\n",
        "plt.show()"
      ],
      "execution_count": null,
      "outputs": []
    },
    {
      "cell_type": "code",
      "metadata": {
        "id": "bzT-kpJV6K9z"
      },
      "source": [
        "import numpy as np\n",
        "np.random.seed(0)\n",
        "\n",
        "# 모든 이미지 파일중에서 임의의 16개 파일만 설정. \n",
        "all_image_files = glob.glob(IMAGE_DIR + '/*.jpg')\n",
        "all_image_files = np.array(all_image_files)\n",
        "file_cnt = all_image_files.shape[0]\n",
        "show_cnt = 16\n",
        "\n",
        "show_indexes = np.random.choice(file_cnt, show_cnt)\n",
        "show_files = all_image_files[show_indexes]\n",
        "print(show_files)\n",
        "fig, axs = plt.subplots(figsize=(24,24) , ncols=4 , nrows=4)\n",
        "\n",
        "for i , filename in enumerate(show_files):\n",
        "    print(filename)\n",
        "    row = int(i/4)\n",
        "    col = i%4\n",
        "    img_array = cv2.imread(os.path.join(IMAGE_DIR, filename))\n",
        "    detected_image = get_detected_image_retina(raccoon_retina_model,img_array, use_copied_array=True, is_print=True)\n",
        "    img_rgb = cv2.cvtColor(detected_image, cv2.COLOR_BGR2RGB)\n",
        "    axs[row][col].imshow(img_rgb)"
      ],
      "execution_count": null,
      "outputs": []
    },
    {
      "cell_type": "markdown",
      "metadata": {
        "id": "m593m7hu6K97"
      },
      "source": [
        "#### video에 object detection을 수행\n",
        "* get_detected_image()와 유사한 함수를 생성. 인자로 image array와 retina 모델을 입력, 개별 frame별로 object Detection 수행. "
      ]
    },
    {
      "cell_type": "code",
      "metadata": {
        "id": "any4A7p36K98"
      },
      "source": [
        "def detect_video_retina(model, input_path, output_path=\"\"):\n",
        "    \n",
        "    start = time.time()\n",
        "    cap = cv2.VideoCapture(input_path)\n",
        "    \n",
        "    codec = cv2.VideoWriter_fourcc(*'XVID')\n",
        "    vid_fps = cap.get(cv2.CAP_PROP_FPS)\n",
        "    vid_size= (int(cap.get(cv2.CAP_PROP_FRAME_WIDTH)),int(cap.get(cv2.CAP_PROP_FRAME_HEIGHT)))\n",
        "    vid_writer = cv2.VideoWriter(output_path, codec, vid_fps, vid_size)\n",
        "    \n",
        "    frame_cnt = int(cap.get(cv2.CAP_PROP_FRAME_COUNT))\n",
        "    print('총 Frame 갯수:', frame_cnt)\n",
        "    \n",
        "    while True:\n",
        "        hasFrame, image_frame = cap.read()\n",
        "        if not hasFrame:\n",
        "            print('프레임이 없거나 종료 되었습니다.')\n",
        "            break\n",
        "\n",
        "        detected_image = get_detected_image_retina(model,image_frame, use_copied_array=False, is_print=True)\n",
        "        vid_writer.write(detected_image)\n",
        "    \n",
        "    vid_writer.release()\n",
        "    cap.release()\n",
        "    print('### Video Detect 총 수행시간:', round(time.time()-start, 5))"
      ],
      "execution_count": null,
      "outputs": []
    },
    {
      "cell_type": "code",
      "metadata": {
        "id": "BsC-AM-c6K-D"
      },
      "source": [
        "detect_video_retina(raccoon_retina_model, input_path='../../data/video/jack_and_raccoon.mp4', output_path='../../data/output/jack_retina.avi')"
      ],
      "execution_count": null,
      "outputs": []
    },
    {
      "cell_type": "code",
      "metadata": {
        "id": "0cWnPKh66K-L"
      },
      "source": [
        "!gsutil cp ~/DLCV/data/output/jack_retina.avi gs://my_bucket_dlcv/data/output/jack_retina.avi"
      ],
      "execution_count": null,
      "outputs": []
    },
    {
      "cell_type": "markdown",
      "metadata": {
        "id": "LvPrd7rh6K-U"
      },
      "source": [
        "#### Raccoon 데이터 세트 학습 모델의 Object Detection 성능 평가"
      ]
    },
    {
      "cell_type": "code",
      "metadata": {
        "id": "Wu6qmvCt6K-W"
      },
      "source": [
        "from keras_retinanet.bin.evaluate import create_generator as eval_create_generator"
      ],
      "execution_count": null,
      "outputs": []
    },
    {
      "cell_type": "code",
      "metadata": {
        "id": "tFcSwkGs6K-e"
      },
      "source": [
        "import os\n",
        "from pathlib import Path\n",
        "\n",
        "HOME_DIR = str(Path.home())\n",
        "ANNO_DIR = os.path.join(HOME_DIR, 'DLCV/data/raccoon/annotations')\n",
        "\n",
        "class args:\n",
        "    dataset_type='csv'\n",
        "    score_threshold=0.05\n",
        "    iou_threshold=0.5\n",
        "    max_detections=100\n",
        "    image_min_side=800\n",
        "    image_max_side=1333\n",
        "    config=None\n",
        "    annotations=os.path.join(ANNO_DIR, 'raccoon_anno_retina_valid.csv')\n",
        "    classes=os.path.join(ANNO_DIR, 'raccoon_class.txt')"
      ],
      "execution_count": null,
      "outputs": []
    },
    {
      "cell_type": "code",
      "metadata": {
        "id": "DLrodik06K-k"
      },
      "source": [
        "generator = eval_create_generator(args)"
      ],
      "execution_count": null,
      "outputs": []
    },
    {
      "cell_type": "code",
      "metadata": {
        "id": "MoYL2iKL6K-r"
      },
      "source": [
        "from keras_retinanet.utils.eval import evaluate\n",
        "\n",
        "average_precisions, inference_time = evaluate(\n",
        "            generator,\n",
        "            raccoon_retina_model,\n",
        "            iou_threshold=args.iou_threshold,\n",
        "            score_threshold=args.score_threshold,\n",
        "            max_detections=args.max_detections,\n",
        "            save_path=None\n",
        "        )"
      ],
      "execution_count": null,
      "outputs": []
    },
    {
      "cell_type": "code",
      "metadata": {
        "id": "n-A7xePK6K-x"
      },
      "source": [
        "# print evaluation\n",
        "total_instances = []\n",
        "precisions = []\n",
        "for label, (average_precision, num_annotations) in average_precisions.items():\n",
        "    print('{:.0f} instances of class'.format(num_annotations),\n",
        "          generator.label_to_name(label), 'with average precision: {:.4f}'.format(average_precision))\n",
        "    total_instances.append(num_annotations)\n",
        "    precisions.append(average_precision)\n",
        "\n",
        "if sum(total_instances) == 0:\n",
        "    print('No test instances found.')\n",
        "\n",
        "print('Inference time for {:.0f} images: {:.4f}'.format(generator.size(), inference_time))\n",
        "\n",
        "print('mAP using the weighted average of precisions among classes: {:.4f}'.format(sum([a * b for a, b in zip(total_instances, precisions)]) / sum(total_instances)))\n",
        "print('mAP: {:.4f}'.format(sum(precisions) / sum(x > 0 for x in total_instances)))"
      ],
      "execution_count": null,
      "outputs": []
    }
  ]
}