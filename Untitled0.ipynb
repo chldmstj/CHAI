{
  "nbformat": 4,
  "nbformat_minor": 0,
  "metadata": {
    "colab": {
      "name": "Untitled0.ipynb",
      "provenance": [],
      "mount_file_id": "1oHI4DGZ94oqBubI38gJSXhmTmlW49oEj",
      "authorship_tag": "ABX9TyNRwI0vizkBIaWam0NUOT9I",
      "include_colab_link": true
    },
    "kernelspec": {
      "name": "python3",
      "display_name": "Python 3"
    }
  },
  "cells": [
    {
      "cell_type": "markdown",
      "metadata": {
        "id": "view-in-github",
        "colab_type": "text"
      },
      "source": [
        "<a href=\"https://colab.research.google.com/github/chldmstj/CHAI/blob/master/Untitled0.ipynb\" target=\"_parent\"><img src=\"https://colab.research.google.com/assets/colab-badge.svg\" alt=\"Open In Colab\"/></a>"
      ]
    },
    {
      "cell_type": "code",
      "metadata": {
        "colab": {
          "base_uri": "https://localhost:8080/"
        },
        "id": "yaNvuxf4LUZV",
        "outputId": "37be4a3f-e1c5-4b5d-b264-661709a7c036"
      },
      "source": [
        "!unzip \"/content/drive/MyDrive/pro1/lecture_mosaic_project_data.zip\" -d \"/content\""
      ],
      "execution_count": 2,
      "outputs": [
        {
          "output_type": "stream",
          "text": [
            "Archive:  /content/drive/MyDrive/pro1/lecture_mosaic_project_data.zip\n",
            "   creating: /content/lecture_mosaic_project_data/dataset/\n",
            "  inflating: /content/lecture_mosaic_project_data/dataset/bts.jpg  \n",
            "  inflating: /content/lecture_mosaic_project_data/dataset/radio.mp4  \n",
            "  inflating: /content/lecture_mosaic_project_data/dataset/radio_frame.PNG  \n",
            "  inflating: /content/lecture_mosaic_project_data/dataset/radio_frame2.PNG  \n",
            "   creating: /content/lecture_mosaic_project_data/facenet/\n",
            "  inflating: /content/lecture_mosaic_project_data/facenet/facenet_keras.h5  \n",
            "   creating: /content/lecture_mosaic_project_data/retinaface/\n",
            "  inflating: /content/lecture_mosaic_project_data/retinaface/saved_model.pb  \n",
            "   creating: /content/lecture_mosaic_project_data/retinaface/variables/\n",
            "  inflating: /content/lecture_mosaic_project_data/retinaface/variables/variables.data-00000-of-00001  \n",
            "  inflating: /content/lecture_mosaic_project_data/retinaface/variables/variables.index  \n"
          ],
          "name": "stdout"
        }
      ]
    }
  ]
}